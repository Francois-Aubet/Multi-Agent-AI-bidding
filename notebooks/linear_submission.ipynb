{
 "cells": [
  {
   "cell_type": "code",
   "execution_count": 1,
   "metadata": {
    "ExecuteTime": {
     "end_time": "2019-03-09T09:16:18.919177Z",
     "start_time": "2019-03-09T09:16:14.291775Z"
    }
   },
   "outputs": [],
   "source": [
    "import numpy as np, pandas as pd\n",
    "import matplotlib.pyplot as plt\n",
    "import seaborn as sns\n",
    "from tqdm import tqdm\n",
    "import gc\n",
    "\n",
    "plt.rcParams['figure.figsize'] = (8, 5)\n",
    "from IPython.display import set_matplotlib_formats\n",
    "set_matplotlib_formats('png', 'pdf')\n",
    "\n",
    "%matplotlib inline\n",
    "\n",
    "sns.set(font_scale=1.4)\n",
    "sns.set_style(\"ticks\")\n",
    "\n",
    "from sklearn.metrics import roc_auc_score"
   ]
  },
  {
   "cell_type": "code",
   "execution_count": 2,
   "metadata": {
    "ExecuteTime": {
     "end_time": "2019-03-09T09:16:19.161082Z",
     "start_time": "2019-03-09T09:16:18.921621Z"
    }
   },
   "outputs": [],
   "source": [
    "# add pycharm project root path for ease of importing \n",
    "import sys\n",
    "sys.path.append('../')\n",
    "\n",
    "from models.CTRLogistic import CTRLogistic\n",
    "from algorithms.LinearBid import LinearBid\n",
    "\n",
    "from algorithms.CEAlgorithm import CEAlgorithm\n",
    "from algorithms.ConstantBid import ConstantBid, ConstantBidCE\n",
    "from algorithms.RandomBid import RandomBid\n",
    "from Evaluator import Evaluator\n",
    "from DataHandler import DataHandler\n",
    "\n",
    "pd.set_option('display.max_columns', 30)\n",
    "pd.set_option('display.width', 1000)\n",
    "\n",
    "# define the places of the datasets:"
   ]
  },
  {
   "cell_type": "code",
   "execution_count": 3,
   "metadata": {
    "ExecuteTime": {
     "end_time": "2019-03-09T09:16:19.234580Z",
     "start_time": "2019-03-09T09:16:19.228655Z"
    }
   },
   "outputs": [],
   "source": [
    "train_set_path = '../../dataset/we_data/train.csv'\n",
    "vali_set_path = '../../dataset/we_data/validation.csv'\n",
    "test_set_path = '../../dataset/we_data/test.csv'"
   ]
  },
  {
   "cell_type": "code",
   "execution_count": 10,
   "metadata": {
    "ExecuteTime": {
     "end_time": "2019-03-02T22:20:27.381998Z",
     "start_time": "2019-03-02T22:20:04.652540Z"
    }
   },
   "outputs": [],
   "source": [
    "# Combine train and validations sets \n",
    "# df = pd.concat([pd.read_csv(train_set_path), pd.read_csv(vali_set_path)])\n",
    "# df.to_csv('../../dataset/we_data/submission_train.csv', index=False)"
   ]
  },
  {
   "cell_type": "code",
   "execution_count": null,
   "metadata": {},
   "outputs": [],
   "source": []
  },
  {
   "cell_type": "code",
   "execution_count": 4,
   "metadata": {
    "ExecuteTime": {
     "end_time": "2019-03-09T09:16:59.566133Z",
     "start_time": "2019-03-09T09:16:21.867858Z"
    }
   },
   "outputs": [],
   "source": [
    "# create a data hanlder instance:\n",
    "data_handler = DataHandler('../../dataset/we_data/submission_train.csv', \n",
    "                           vali_set_path, test_set_path, debug_mode=False)"
   ]
  },
  {
   "cell_type": "code",
   "execution_count": 5,
   "metadata": {
    "ExecuteTime": {
     "end_time": "2019-03-09T09:17:00.540009Z",
     "start_time": "2019-03-09T09:16:59.595984Z"
    }
   },
   "outputs": [],
   "source": [
    "tx, ty, vx, vy, tex = data_handler.get_datasets()"
   ]
  },
  {
   "cell_type": "markdown",
   "metadata": {},
   "source": [
    "# Logistic Training"
   ]
  },
  {
   "cell_type": "code",
   "execution_count": 7,
   "metadata": {
    "ExecuteTime": {
     "end_time": "2019-03-09T09:17:08.276095Z",
     "start_time": "2019-03-09T09:17:08.271341Z"
    }
   },
   "outputs": [],
   "source": [
    "np.random.seed(100)"
   ]
  },
  {
   "cell_type": "code",
   "execution_count": 8,
   "metadata": {
    "ExecuteTime": {
     "end_time": "2019-03-09T09:36:58.893163Z",
     "start_time": "2019-03-09T09:17:08.279838Z"
    }
   },
   "outputs": [
    {
     "name": "stdout",
     "output_type": "stream",
     "text": [
      "####### categories: slotformat - orig: 4, after min freq : 4\n",
      "####### categories: adexchange - orig: 5, after min freq : 5\n",
      "####### categories: os - orig: 6, after min freq : 6\n",
      "####### categories: weekday - orig: 7, after min freq : 7\n",
      "####### categories: advertiser - orig: 9, after min freq : 9\n",
      "####### categories: browser - orig: 9, after min freq : 9\n",
      "####### categories: slotvisibility - orig: 11, after min freq : 11\n",
      "####### categories: slotheight - orig: 14, after min freq : 14\n",
      "####### categories: keypage - orig: 19, after min freq : 19\n",
      "####### categories: slotwidth - orig: 21, after min freq : 21\n",
      "####### categories: hour - orig: 24, after min freq : 24\n",
      "####### categories: region - orig: 35, after min freq : 35\n",
      "####### categories: useragent - orig: 38, after min freq : 38\n",
      "####### categories: creative - orig: 131, after min freq : 131\n",
      "####### categories: slotprice - orig: 287, after min freq : 287\n",
      "####### categories: city - orig: 370, after min freq : 370\n",
      "####### categories: domain - orig: 24248, after min freq : 24248\n",
      "####### categories: slotid - orig: 56203, after min freq : 56203\n",
      "####### categories: IP - orig: 517394, after min freq : 517394\n",
      "####### categories: url - orig: 840234, after min freq : 840234\n",
      "102.46261388057103\n",
      "129.42686419339194\n",
      "140.94287367548583\n",
      "142.672232753844\n",
      "144.36566914022842\n",
      "147.09258337098916\n",
      "147.87555131613308\n",
      "converge!!\n",
      "Optimal mean, std: 4.996327015489631, 0.009384568167369225\n",
      "Optimal train click: 189.67\n",
      "Optimal base_bid: 147.87555131613308\n"
     ]
    }
   ],
   "source": [
    "ceAlgo = CEAlgorithm(n_samples=100, p=0.2, max_iter=10, n_jobs=10)\n",
    "ctrLog = CTRLogistic(max_iter=500)\n",
    "\n",
    "algo = LinearBid(ceAlgo, ctrModel=ctrLog, n_rounds=1)\n",
    "\n",
    "ev = Evaluator(algo, data_handler)\n",
    "\n",
    "number_clicks = ev.evaluate()"
   ]
  },
  {
   "cell_type": "code",
   "execution_count": 9,
   "metadata": {
    "ExecuteTime": {
     "end_time": "2019-03-09T09:40:37.970579Z",
     "start_time": "2019-03-09T09:40:37.961605Z"
    }
   },
   "outputs": [
    {
     "data": {
      "text/plain": [
       "(194,\n",
       " 0.0017398947094644892,\n",
       " 6097.051,\n",
       " 54.681581331109136,\n",
       " 31.428097938144333,\n",
       " 111501)"
      ]
     },
     "execution_count": 9,
     "metadata": {},
     "output_type": "execute_result"
    }
   ],
   "source": [
    "number_clicks"
   ]
  },
  {
   "cell_type": "code",
   "execution_count": 11,
   "metadata": {
    "ExecuteTime": {
     "end_time": "2019-03-09T09:40:59.701107Z",
     "start_time": "2019-03-09T09:40:59.694124Z"
    }
   },
   "outputs": [
    {
     "data": {
      "text/plain": [
       "0.0006667230855212643"
      ]
     },
     "execution_count": 11,
     "metadata": {},
     "output_type": "execute_result"
    }
   ],
   "source": [
    "algo.avg_ctr_train"
   ]
  },
  {
   "cell_type": "code",
   "execution_count": 12,
   "metadata": {
    "ExecuteTime": {
     "end_time": "2019-03-09T09:41:24.756253Z",
     "start_time": "2019-03-09T09:41:07.099590Z"
    }
   },
   "outputs": [
    {
     "data": {
      "text/plain": [
       "0.9499355245626201"
      ]
     },
     "execution_count": 12,
     "metadata": {},
     "output_type": "execute_result"
    }
   ],
   "source": [
    "p = algo.ctrModel.predict(vx)\n",
    "roc_auc_score(vy.click, p)"
   ]
  },
  {
   "cell_type": "code",
   "execution_count": 13,
   "metadata": {
    "ExecuteTime": {
     "end_time": "2019-03-09T09:41:25.365623Z",
     "start_time": "2019-03-09T09:41:25.359639Z"
    }
   },
   "outputs": [
    {
     "data": {
      "text/plain": [
       "147.87555131613308"
      ]
     },
     "execution_count": 13,
     "metadata": {},
     "output_type": "execute_result"
    }
   ],
   "source": [
    "algo._base_params"
   ]
  },
  {
   "cell_type": "code",
   "execution_count": 14,
   "metadata": {
    "ExecuteTime": {
     "end_time": "2019-03-09T09:43:11.032289Z",
     "start_time": "2019-03-09T09:42:44.089283Z"
    }
   },
   "outputs": [],
   "source": [
    "data_handler = DataHandler(train_set_path, \n",
    "                           vali_set_path, test_set_path, debug_mode=False)"
   ]
  },
  {
   "cell_type": "code",
   "execution_count": 15,
   "metadata": {
    "ExecuteTime": {
     "end_time": "2019-03-09T09:43:12.590263Z",
     "start_time": "2019-03-09T09:43:11.539931Z"
    }
   },
   "outputs": [],
   "source": [
    "tx, ty, vx, vy, tex = data_handler.get_datasets()"
   ]
  },
  {
   "cell_type": "code",
   "execution_count": 16,
   "metadata": {
    "ExecuteTime": {
     "end_time": "2019-03-09T09:46:19.954609Z",
     "start_time": "2019-03-09T09:43:13.184537Z"
    }
   },
   "outputs": [],
   "source": [
    "train_bids = algo.predict(tx)\n",
    "valid_bids = algo.predict(vx)\n",
    "test_bids = algo.predict(tex)"
   ]
  },
  {
   "cell_type": "code",
   "execution_count": 17,
   "metadata": {
    "ExecuteTime": {
     "end_time": "2019-03-09T09:46:20.625880Z",
     "start_time": "2019-03-09T09:46:20.587917Z"
    }
   },
   "outputs": [],
   "source": [
    "import dill, gzip"
   ]
  },
  {
   "cell_type": "code",
   "execution_count": 19,
   "metadata": {
    "ExecuteTime": {
     "end_time": "2019-03-09T10:30:36.385260Z",
     "start_time": "2019-03-09T10:30:34.942596Z"
    }
   },
   "outputs": [],
   "source": [
    "dill.dump({'train': train_bids,\n",
    "          'valid': valid_bids,\n",
    "          'test': test_bids}, gzip.open('../pretrain/submission_linearbid_logistic_preds.bin.gz','wb'))"
   ]
  },
  {
   "cell_type": "code",
   "execution_count": 23,
   "metadata": {
    "ExecuteTime": {
     "end_time": "2019-03-02T22:40:23.062092Z",
     "start_time": "2019-03-02T22:40:23.059101Z"
    }
   },
   "outputs": [],
   "source": [
    "# use alternative base bid  \n",
    "algo._base_params = 173"
   ]
  },
  {
   "cell_type": "code",
   "execution_count": 13,
   "metadata": {
    "ExecuteTime": {
     "end_time": "2019-03-02T22:38:25.054024Z",
     "start_time": "2019-03-02T22:38:07.613514Z"
    }
   },
   "outputs": [],
   "source": [
    "bids = algo.predict(tex)"
   ]
  },
  {
   "cell_type": "markdown",
   "metadata": {},
   "source": [
    "# Generate csv"
   ]
  },
  {
   "cell_type": "code",
   "execution_count": 14,
   "metadata": {
    "ExecuteTime": {
     "end_time": "2019-03-02T22:38:27.258144Z",
     "start_time": "2019-03-02T22:38:27.214249Z"
    }
   },
   "outputs": [],
   "source": [
    "submission = tex.bidid.to_frame()"
   ]
  },
  {
   "cell_type": "code",
   "execution_count": 15,
   "metadata": {
    "ExecuteTime": {
     "end_time": "2019-03-02T22:38:29.437301Z",
     "start_time": "2019-03-02T22:38:29.428325Z"
    }
   },
   "outputs": [],
   "source": [
    "submission['bidprice'] = bids"
   ]
  },
  {
   "cell_type": "code",
   "execution_count": 16,
   "metadata": {
    "ExecuteTime": {
     "end_time": "2019-03-02T22:39:06.734807Z",
     "start_time": "2019-03-02T22:39:05.535587Z"
    }
   },
   "outputs": [],
   "source": [
    "submission.to_csv('../../submissions/logistic_train_and_valid.csv', index=False)"
   ]
  },
  {
   "cell_type": "code",
   "execution_count": 21,
   "metadata": {
    "ExecuteTime": {
     "end_time": "2019-03-02T22:39:38.636397Z",
     "start_time": "2019-03-02T22:39:38.630416Z"
    }
   },
   "outputs": [
    {
     "data": {
      "text/plain": [
       "array([684.02117336, 531.4805529 ,  24.08786669, 207.59675084,\n",
       "       139.12554941,  72.0125071 ,  28.67383405, 324.45525797,\n",
       "        12.48264281, 154.03316957,  22.56088865, 647.82064534,\n",
       "       123.8856705 ,  80.91017608,  67.23857502,  84.40791557,\n",
       "        27.79163566,  26.75938326,  59.04562626,  83.09240152])"
      ]
     },
     "execution_count": 21,
     "metadata": {},
     "output_type": "execute_result"
    }
   ],
   "source": [
    "bids[:20]"
   ]
  },
  {
   "cell_type": "markdown",
   "metadata": {},
   "source": [
    "# Submit to leaderboard"
   ]
  },
  {
   "cell_type": "code",
   "execution_count": 24,
   "metadata": {
    "ExecuteTime": {
     "end_time": "2019-03-02T22:40:35.613890Z",
     "start_time": "2019-03-02T22:40:35.608906Z"
    }
   },
   "outputs": [],
   "source": [
    "r = []"
   ]
  },
  {
   "cell_type": "code",
   "execution_count": 25,
   "metadata": {
    "ExecuteTime": {
     "end_time": "2019-03-02T22:41:43.987857Z",
     "start_time": "2019-03-02T22:40:37.782090Z"
    }
   },
   "outputs": [],
   "source": [
    "# import requests\n",
    "# with open('../../submissions/logistic_train_and_valid.csv', 'rb') as f:\n",
    "#     r += [requests.post('http://deepmining.cs.ucl.ac.uk/api/upload/wining_criteria_1/31pr3HIVQEC9', \n",
    "#                       files={'file': f})]"
   ]
  },
  {
   "cell_type": "code",
   "execution_count": 26,
   "metadata": {
    "ExecuteTime": {
     "end_time": "2019-03-02T22:41:46.102993Z",
     "start_time": "2019-03-02T22:41:46.096013Z"
    }
   },
   "outputs": [
    {
     "name": "stdout",
     "output_type": "stream",
     "text": [
      "{\n",
      "  \"best result\": {\n",
      "    \"clicks\": 170, \n",
      "    \"cost\": 6249.999000002058, \n",
      "    \"cpc\": 36.764700000012105, \n",
      "    \"ctr\": 0.00140619054709084, \n",
      "    \"impressions\": 120894\n",
      "  }, \n",
      "  \"daily submission limit\": 5, \n",
      "  \"group\": \"3\", \n",
      "  \"ranking\": 1, \n",
      "  \"result\": {\n",
      "    \"clicks\": 170, \n",
      "    \"cost\": 6249.999000002058, \n",
      "    \"cpc\": 36.764700000012105, \n",
      "    \"ctr\": 0.00140619054709084, \n",
      "    \"impressions\": 120894\n",
      "  }, \n",
      "  \"today tried times\": 5\n",
      "}\n",
      "\n"
     ]
    }
   ],
   "source": [
    "print(r[-1].content.decode('utf-8'))"
   ]
  }
 ],
 "metadata": {
  "kernelspec": {
   "display_name": "Python 3",
   "language": "python",
   "name": "python3"
  },
  "language_info": {
   "codemirror_mode": {
    "name": "ipython",
    "version": 3
   },
   "file_extension": ".py",
   "mimetype": "text/x-python",
   "name": "python",
   "nbconvert_exporter": "python",
   "pygments_lexer": "ipython3",
   "version": "3.6.5"
  },
  "latex_envs": {
   "LaTeX_envs_menu_present": true,
   "autoclose": false,
   "autocomplete": true,
   "bibliofile": "biblio.bib",
   "cite_by": "apalike",
   "current_citInitial": 1,
   "eqLabelWithNumbers": true,
   "eqNumInitial": 1,
   "hotkeys": {
    "equation": "Ctrl-E",
    "itemize": "Ctrl-I"
   },
   "labels_anchors": false,
   "latex_user_defs": false,
   "report_style_numbering": false,
   "user_envs_cfg": false
  },
  "toc": {
   "base_numbering": 1,
   "nav_menu": {},
   "number_sections": true,
   "sideBar": true,
   "skip_h1_title": false,
   "title_cell": "Table of Contents",
   "title_sidebar": "Contents",
   "toc_cell": false,
   "toc_position": {},
   "toc_section_display": true,
   "toc_window_display": false
  },
  "varInspector": {
   "cols": {
    "lenName": 16,
    "lenType": 16,
    "lenVar": 40
   },
   "kernels_config": {
    "python": {
     "delete_cmd_postfix": "",
     "delete_cmd_prefix": "del ",
     "library": "var_list.py",
     "varRefreshCmd": "print(var_dic_list())"
    },
    "r": {
     "delete_cmd_postfix": ") ",
     "delete_cmd_prefix": "rm(",
     "library": "var_list.r",
     "varRefreshCmd": "cat(var_dic_list()) "
    }
   },
   "types_to_exclude": [
    "module",
    "function",
    "builtin_function_or_method",
    "instance",
    "_Feature"
   ],
   "window_display": false
  }
 },
 "nbformat": 4,
 "nbformat_minor": 2
}
