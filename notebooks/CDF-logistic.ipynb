{
 "cells": [
  {
   "cell_type": "code",
   "execution_count": 1,
   "metadata": {
    "ExecuteTime": {
     "end_time": "2019-03-09T00:16:08.827896Z",
     "start_time": "2019-03-09T00:16:06.029334Z"
    }
   },
   "outputs": [],
   "source": [
    "import numpy as np, pandas as pd\n",
    "import matplotlib.pyplot as plt\n",
    "import seaborn as sns\n",
    "from tqdm import tqdm_notebook as tqdm\n",
    "import gc\n",
    "\n",
    "plt.rcParams['figure.figsize'] = (8, 5)\n",
    "from IPython.display import set_matplotlib_formats\n",
    "set_matplotlib_formats('png', 'pdf')\n",
    "\n",
    "%matplotlib inline\n",
    "\n",
    "sns.set(font_scale=1.4)\n",
    "sns.set_style(\"ticks\")\n",
    "\n",
    "from sklearn.metrics import roc_auc_score"
   ]
  },
  {
   "cell_type": "code",
   "execution_count": 2,
   "metadata": {
    "ExecuteTime": {
     "end_time": "2019-03-09T00:16:09.148429Z",
     "start_time": "2019-03-09T00:16:08.830677Z"
    }
   },
   "outputs": [],
   "source": [
    "# add pycharm project root path for ease of importing \n",
    "import sys\n",
    "sys.path.append('../')\n",
    "\n",
    "from models.CTRLogistic import CTRLogistic\n",
    "\n",
    "from algorithms.CEAlgorithm import CEAlgorithm\n",
    "from algorithms.CDFBid import *\n",
    "from Evaluator import Evaluator\n",
    "from DataHandler import DataHandler\n",
    "\n",
    "pd.set_option('display.max_columns', 30)\n",
    "pd.set_option('display.width', 1000)\n",
    "\n",
    "# define the places of the datasets:"
   ]
  },
  {
   "cell_type": "code",
   "execution_count": 3,
   "metadata": {
    "ExecuteTime": {
     "end_time": "2019-03-09T00:16:09.155537Z",
     "start_time": "2019-03-09T00:16:09.150360Z"
    }
   },
   "outputs": [],
   "source": [
    "train_set_path = '../../dataset/we_data/train.csv'\n",
    "vali_set_path = '../../dataset/we_data/validation.csv'\n",
    "test_set_path = '../../dataset/we_data/test.csv'"
   ]
  },
  {
   "cell_type": "code",
   "execution_count": 4,
   "metadata": {
    "ExecuteTime": {
     "end_time": "2019-03-09T00:16:33.732449Z",
     "start_time": "2019-03-09T00:16:09.160334Z"
    }
   },
   "outputs": [],
   "source": [
    "# create a data hanlder instance:\n",
    "data_handler = DataHandler(train_set_path, vali_set_path, test_set_path, debug_mode=False)"
   ]
  },
  {
   "cell_type": "code",
   "execution_count": 5,
   "metadata": {
    "ExecuteTime": {
     "end_time": "2019-03-09T00:16:34.292742Z",
     "start_time": "2019-03-09T00:16:33.735220Z"
    }
   },
   "outputs": [],
   "source": [
    "tx, ty, vx, vy, tex = data_handler.get_datasets()"
   ]
  },
  {
   "cell_type": "code",
   "execution_count": 6,
   "metadata": {
    "ExecuteTime": {
     "end_time": "2019-03-09T01:03:25.162372Z",
     "start_time": "2019-03-09T00:16:34.294731Z"
    }
   },
   "outputs": [
    {
     "name": "stdout",
     "output_type": "stream",
     "text": [
      "####### categories: slotformat - orig: 4, after min freq : 4\n",
      "####### categories: adexchange - orig: 5, after min freq : 5\n",
      "####### categories: os - orig: 6, after min freq : 6\n",
      "####### categories: weekday - orig: 7, after min freq : 7\n",
      "####### categories: advertiser - orig: 9, after min freq : 9\n",
      "####### categories: browser - orig: 9, after min freq : 9\n",
      "####### categories: slotvisibility - orig: 11, after min freq : 11\n",
      "####### categories: slotheight - orig: 14, after min freq : 14\n",
      "####### categories: keypage - orig: 19, after min freq : 19\n",
      "####### categories: slotwidth - orig: 21, after min freq : 21\n",
      "####### categories: hour - orig: 24, after min freq : 24\n",
      "####### categories: region - orig: 35, after min freq : 35\n",
      "####### categories: useragent - orig: 38, after min freq : 38\n",
      "####### categories: creative - orig: 131, after min freq : 131\n",
      "####### categories: slotprice - orig: 286, after min freq : 286\n",
      "####### categories: city - orig: 370, after min freq : 370\n",
      "####### categories: domain - orig: 23013, after min freq : 23013\n",
      "####### categories: slotid - orig: 52283, after min freq : 52283\n",
      "####### categories: IP - orig: 503975, after min freq : 503975\n",
      "####### categories: url - orig: 763961, after min freq : 763961\n"
     ]
    },
    {
     "name": "stderr",
     "output_type": "stream",
     "text": [
      "100%|█████████████████████████████████████████████████████████████████████████████████| 10/10 [33:26<00:00, 189.88s/it]\n"
     ]
    },
    {
     "name": "stdout",
     "output_type": "stream",
     "text": [
      "142 284.37003030883335 18.511161303695932\n",
      "186 488.23733076340017 11.701268245932262\n",
      "181 614.3011719679836 9.396981296571665\n",
      "192 798.1356906008754 7.824958933952929\n",
      "194 842.4041851338989 9.33430808260245\n",
      "195 846.2297463601091 10.25252564344463\n",
      "186 914.5090300293996 10.724446211240585\n",
      "195 928.4178516597553 14.229708348314809\n",
      "193 941.6766403004673 17.795827982513366\n",
      "193 944.3954302052351 24.32832287434821\n",
      "Optimal base bid mean, std: 6.849404961610803, 0.04774944512590976\n",
      "Optimal min bid mean, std: 3.1138069551322176, 0.3945485188730979\n"
     ]
    }
   ],
   "source": [
    "np.random.seed(100)\n",
    "cdf_bid = CDFBid(CECDFAlgorithm(), CTRLogistic(max_iter=500), n_rounds=1)\n",
    "ev = Evaluator(cdf_bid, data_handler)\n",
    "\n",
    "number_clicks = ev.evaluate()"
   ]
  },
  {
   "cell_type": "code",
   "execution_count": 7,
   "metadata": {
    "ExecuteTime": {
     "end_time": "2019-03-09T01:04:06.101715Z",
     "start_time": "2019-03-09T01:04:06.089747Z"
    }
   },
   "outputs": [
    {
     "data": {
      "text/plain": [
       "(157,\n",
       " 0.0014448606215661554,\n",
       " 5888.972,\n",
       " 54.19582002742474,\n",
       " 37.50937579617834,\n",
       " 108661)"
      ]
     },
     "execution_count": 7,
     "metadata": {},
     "output_type": "execute_result"
    }
   ],
   "source": [
    "number_clicks"
   ]
  },
  {
   "cell_type": "code",
   "execution_count": 9,
   "metadata": {
    "ExecuteTime": {
     "end_time": "2019-03-09T01:11:55.913610Z",
     "start_time": "2019-03-09T01:07:27.242049Z"
    }
   },
   "outputs": [],
   "source": [
    "train_bids = cdf_bid.predict(tx)\n",
    "valid_bids = cdf_bid.predict(vx)\n",
    "test_bids = cdf_bid.predict(tex)"
   ]
  },
  {
   "cell_type": "code",
   "execution_count": null,
   "metadata": {},
   "outputs": [],
   "source": [
    "import dill, gzip"
   ]
  },
  {
   "cell_type": "code",
   "execution_count": null,
   "metadata": {},
   "outputs": [],
   "source": [
    "vdict = dict(zip(vx.bidid, valid_bids))\n",
    "tedict = dict(zip(tex.bidid, test_bids))\n",
    "\n",
    "dump = {}\n",
    "dump.update(vdict)\n",
    "dump.update(tedict)"
   ]
  },
  {
   "cell_type": "code",
   "execution_count": 8,
   "metadata": {
    "ExecuteTime": {
     "end_time": "2019-03-09T01:06:10.087099Z",
     "start_time": "2019-03-09T01:04:31.837937Z"
    }
   },
   "outputs": [],
   "source": [
    "dill.dump(dump, gzip.open('../pretrain/prepared_cdf_logistic.gz', 'wb'))"
   ]
  },
  {
   "cell_type": "code",
   "execution_count": 11,
   "metadata": {
    "ExecuteTime": {
     "end_time": "2019-03-09T01:15:31.895285Z",
     "start_time": "2019-03-09T01:15:24.598784Z"
    }
   },
   "outputs": [],
   "source": [
    "dill.dump({'train': train_bids,\n",
    "           'valid': valid_bids,\n",
    "            'test': test_bids}, gzip.open('../pretrain/cdfbid_logistic_preds.bin.gz', 'wb'))"
   ]
  }
 ],
 "metadata": {
  "kernelspec": {
   "display_name": "Python 3",
   "language": "python",
   "name": "python3"
  },
  "language_info": {
   "codemirror_mode": {
    "name": "ipython",
    "version": 3
   },
   "file_extension": ".py",
   "mimetype": "text/x-python",
   "name": "python",
   "nbconvert_exporter": "python",
   "pygments_lexer": "ipython3",
   "version": "3.6.5"
  },
  "latex_envs": {
   "LaTeX_envs_menu_present": true,
   "autoclose": false,
   "autocomplete": true,
   "bibliofile": "biblio.bib",
   "cite_by": "apalike",
   "current_citInitial": 1,
   "eqLabelWithNumbers": true,
   "eqNumInitial": 1,
   "hotkeys": {
    "equation": "Ctrl-E",
    "itemize": "Ctrl-I"
   },
   "labels_anchors": false,
   "latex_user_defs": false,
   "report_style_numbering": false,
   "user_envs_cfg": false
  },
  "toc": {
   "base_numbering": 1,
   "nav_menu": {},
   "number_sections": true,
   "sideBar": true,
   "skip_h1_title": false,
   "title_cell": "Table of Contents",
   "title_sidebar": "Contents",
   "toc_cell": false,
   "toc_position": {},
   "toc_section_display": true,
   "toc_window_display": false
  },
  "varInspector": {
   "cols": {
    "lenName": 16,
    "lenType": 16,
    "lenVar": 40
   },
   "kernels_config": {
    "python": {
     "delete_cmd_postfix": "",
     "delete_cmd_prefix": "del ",
     "library": "var_list.py",
     "varRefreshCmd": "print(var_dic_list())"
    },
    "r": {
     "delete_cmd_postfix": ") ",
     "delete_cmd_prefix": "rm(",
     "library": "var_list.r",
     "varRefreshCmd": "cat(var_dic_list()) "
    }
   },
   "types_to_exclude": [
    "module",
    "function",
    "builtin_function_or_method",
    "instance",
    "_Feature"
   ],
   "window_display": false
  }
 },
 "nbformat": 4,
 "nbformat_minor": 2
}
