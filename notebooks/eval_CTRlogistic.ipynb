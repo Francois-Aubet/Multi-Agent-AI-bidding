{
 "cells": [
  {
   "cell_type": "code",
   "execution_count": 23,
   "metadata": {
    "ExecuteTime": {
     "end_time": "2019-03-08T22:57:19.709500Z",
     "start_time": "2019-03-08T22:57:18.928586Z"
    }
   },
   "outputs": [],
   "source": [
    "import numpy as np, pandas as pd\n",
    "import matplotlib.pyplot as plt\n",
    "import seaborn as sns\n",
    "from tqdm import tqdm\n",
    "import gc\n",
    "\n",
    "plt.rcParams['figure.figsize'] = (8, 5)\n",
    "from IPython.display import set_matplotlib_formats\n",
    "set_matplotlib_formats('png', 'pdf')\n",
    "\n",
    "%matplotlib inline\n",
    "\n",
    "sns.set(font_scale=1.4)\n",
    "sns.set_style(\"ticks\")\n",
    "\n",
    "from sklearn.metrics import roc_auc_score"
   ]
  },
  {
   "cell_type": "code",
   "execution_count": 24,
   "metadata": {
    "ExecuteTime": {
     "end_time": "2019-03-08T22:57:19.726457Z",
     "start_time": "2019-03-08T22:57:19.714487Z"
    }
   },
   "outputs": [],
   "source": [
    "# add pycharm project root path for ease of importing \n",
    "import sys\n",
    "sys.path.append('../')\n",
    "\n",
    "from models.CTRLogistic import CTRLogistic\n",
    "from algorithms.LinearBid import LinearBid\n",
    "\n",
    "from algorithms.CEAlgorithm import CEAlgorithm\n",
    "from algorithms.ConstantBid import ConstantBid, ConstantBidCE\n",
    "from algorithms.RandomBid import RandomBid\n",
    "from Evaluator import Evaluator\n",
    "from DataHandler import DataHandler\n",
    "\n",
    "pd.set_option('display.max_columns', 30)\n",
    "pd.set_option('display.width', 1000)\n",
    "\n",
    "# define the places of the datasets:"
   ]
  },
  {
   "cell_type": "code",
   "execution_count": 25,
   "metadata": {
    "ExecuteTime": {
     "end_time": "2019-03-08T22:57:19.763356Z",
     "start_time": "2019-03-08T22:57:19.730447Z"
    }
   },
   "outputs": [],
   "source": [
    "train_set_path = '../../dataset/we_data/train.csv'\n",
    "vali_set_path = '../../dataset/we_data/validation.csv'\n",
    "test_set_path = '../../dataset/we_data/test.csv'"
   ]
  },
  {
   "cell_type": "code",
   "execution_count": 26,
   "metadata": {
    "ExecuteTime": {
     "end_time": "2019-03-08T22:58:14.721483Z",
     "start_time": "2019-03-08T22:57:19.767346Z"
    }
   },
   "outputs": [],
   "source": [
    "# create a data hanlder instance:\n",
    "data_handler = DataHandler(train_set_path, vali_set_path, test_set_path, debug_mode=False)"
   ]
  },
  {
   "cell_type": "code",
   "execution_count": 27,
   "metadata": {
    "ExecuteTime": {
     "end_time": "2019-03-08T22:58:24.934192Z",
     "start_time": "2019-03-08T22:58:14.750407Z"
    }
   },
   "outputs": [],
   "source": [
    "tx, ty, vx, vy, tex = data_handler.get_datasets()"
   ]
  },
  {
   "cell_type": "markdown",
   "metadata": {},
   "source": [
    "# Logistic"
   ]
  },
  {
   "cell_type": "markdown",
   "metadata": {},
   "source": [
    "## Calibrated probability + avg pCTR"
   ]
  },
  {
   "cell_type": "code",
   "execution_count": 28,
   "metadata": {
    "ExecuteTime": {
     "end_time": "2019-03-08T22:58:24.952144Z",
     "start_time": "2019-03-08T22:58:24.938181Z"
    }
   },
   "outputs": [],
   "source": [
    "np.random.seed(100)"
   ]
  },
  {
   "cell_type": "code",
   "execution_count": 29,
   "metadata": {
    "ExecuteTime": {
     "end_time": "2019-03-08T23:47:59.467886Z",
     "start_time": "2019-03-08T22:58:24.984058Z"
    }
   },
   "outputs": [
    {
     "name": "stdout",
     "output_type": "stream",
     "text": [
      "####### categories: slotformat - orig: 4, after min freq : 4\n",
      "####### categories: adexchange - orig: 5, after min freq : 5\n",
      "####### categories: os - orig: 6, after min freq : 6\n",
      "####### categories: weekday - orig: 7, after min freq : 7\n",
      "####### categories: advertiser - orig: 9, after min freq : 9\n",
      "####### categories: browser - orig: 9, after min freq : 9\n",
      "####### categories: slotvisibility - orig: 11, after min freq : 11\n",
      "####### categories: slotheight - orig: 14, after min freq : 14\n",
      "####### categories: keypage - orig: 19, after min freq : 19\n",
      "####### categories: slotwidth - orig: 21, after min freq : 21\n",
      "####### categories: hour - orig: 24, after min freq : 24\n",
      "####### categories: region - orig: 35, after min freq : 35\n",
      "####### categories: useragent - orig: 38, after min freq : 38\n",
      "####### categories: creative - orig: 131, after min freq : 131\n",
      "####### categories: slotprice - orig: 286, after min freq : 286\n",
      "####### categories: city - orig: 370, after min freq : 370\n",
      "####### categories: domain - orig: 23013, after min freq : 23013\n",
      "####### categories: slotid - orig: 52283, after min freq : 52283\n",
      "####### categories: IP - orig: 503975, after min freq : 503975\n",
      "####### categories: url - orig: 763961, after min freq : 763961\n",
      "125.83521917401443\n",
      "135.35541866537187\n",
      "143.37038879554476\n",
      "143.61557557858129\n",
      "converge!!\n",
      "Optimal mean, std: 4.967061681512763, 0.012524715674046836\n",
      "Optimal base_bid: 143.61557557858129\n"
     ]
    }
   ],
   "source": [
    "ceAlgo = CEAlgorithm(n_samples=100, p=0.2, max_iter=10, n_jobs=10)\n",
    "ctrLog = CTRLogistic(max_iter=500)\n",
    "\n",
    "algo = LinearBid(ceAlgo, ctrModel=ctrLog, n_rounds=1)\n",
    "\n",
    "ev = Evaluator(algo, data_handler)\n",
    "\n",
    "number_clicks = ev.evaluate()"
   ]
  },
  {
   "cell_type": "code",
   "execution_count": 30,
   "metadata": {
    "ExecuteTime": {
     "end_time": "2019-03-08T23:47:59.485838Z",
     "start_time": "2019-03-08T23:47:59.473871Z"
    }
   },
   "outputs": [
    {
     "data": {
      "text/plain": [
       "(166,\n",
       " 0.0014819311526924725,\n",
       " 6091.884,\n",
       " 54.38405227824596,\n",
       " 36.69809638554217,\n",
       " 112016)"
      ]
     },
     "execution_count": 30,
     "metadata": {},
     "output_type": "execute_result"
    }
   ],
   "source": [
    "number_clicks"
   ]
  },
  {
   "cell_type": "code",
   "execution_count": 11,
   "metadata": {
    "ExecuteTime": {
     "end_time": "2019-03-08T15:44:42.997793Z",
     "start_time": "2019-03-08T15:44:42.990811Z"
    }
   },
   "outputs": [
    {
     "data": {
      "text/plain": [
       "0.0006587308902696465"
      ]
     },
     "execution_count": 11,
     "metadata": {},
     "output_type": "execute_result"
    }
   ],
   "source": [
    "algo.avg_ctr_test"
   ]
  },
  {
   "cell_type": "code",
   "execution_count": 32,
   "metadata": {
    "ExecuteTime": {
     "end_time": "2019-03-09T00:01:30.820648Z",
     "start_time": "2019-03-09T00:01:04.820134Z"
    }
   },
   "outputs": [
    {
     "data": {
      "text/plain": [
       "0.8648783285890742"
      ]
     },
     "execution_count": 32,
     "metadata": {},
     "output_type": "execute_result"
    }
   ],
   "source": [
    "p = algo.ctrModel.predict(vx)\n",
    "roc_auc_score(vy.click, p)"
   ]
  },
  {
   "cell_type": "code",
   "execution_count": null,
   "metadata": {},
   "outputs": [],
   "source": []
  },
  {
   "cell_type": "code",
   "execution_count": 12,
   "metadata": {
    "ExecuteTime": {
     "end_time": "2019-03-08T19:10:29.222891Z",
     "start_time": "2019-03-08T19:06:47.636998Z"
    }
   },
   "outputs": [],
   "source": [
    "train_bids = algo.predict(tx, mode='train')\n",
    "valid_bids = algo.predict(vx, mode='valid')\n",
    "test_bids = algo.predict(tex, mode='test')"
   ]
  },
  {
   "cell_type": "code",
   "execution_count": 13,
   "metadata": {
    "ExecuteTime": {
     "end_time": "2019-03-08T19:10:53.116057Z",
     "start_time": "2019-03-08T19:10:53.054222Z"
    }
   },
   "outputs": [],
   "source": [
    "import dill, gzip\n",
    "dill.dump({'train': train_bids,\n",
    "          'valid': valid_bids,\n",
    "          'test': test_bids}, gzip.open('../pretrain/linearbid_logistic_preds.bin.gz','wb'))"
   ]
  },
  {
   "cell_type": "markdown",
   "metadata": {},
   "source": [
    "### Non-linear"
   ]
  },
  {
   "cell_type": "code",
   "execution_count": 15,
   "metadata": {
    "ExecuteTime": {
     "end_time": "2019-03-08T19:15:49.823005Z",
     "start_time": "2019-03-08T19:15:49.818017Z"
    }
   },
   "outputs": [],
   "source": [
    "from algorithms.LinearBid import NonLinearBid"
   ]
  },
  {
   "cell_type": "code",
   "execution_count": 16,
   "metadata": {
    "ExecuteTime": {
     "end_time": "2019-03-08T19:18:46.506829Z",
     "start_time": "2019-03-08T19:15:50.851256Z"
    }
   },
   "outputs": [
    {
     "name": "stdout",
     "output_type": "stream",
     "text": [
      "Optimal c, lmd: 80, 1.4000000000000018e-06\n"
     ]
    }
   ],
   "source": [
    "nonlinear_log = NonLinearBid(ctrModel=algo.ctrModel)\n",
    "nonlinear_log.train_base_bid(data_handler)"
   ]
  },
  {
   "cell_type": "code",
   "execution_count": 18,
   "metadata": {
    "ExecuteTime": {
     "end_time": "2019-03-08T19:26:55.681516Z",
     "start_time": "2019-03-08T19:21:36.872538Z"
    }
   },
   "outputs": [],
   "source": [
    "train_bids = nonlinear_log.predict(tx)\n",
    "valid_bids = nonlinear_log.predict(vx)\n",
    "test_bids = nonlinear_log.predict(tex)"
   ]
  },
  {
   "cell_type": "code",
   "execution_count": 19,
   "metadata": {
    "ExecuteTime": {
     "end_time": "2019-03-08T19:26:56.898264Z",
     "start_time": "2019-03-08T19:26:56.811497Z"
    }
   },
   "outputs": [],
   "source": [
    "import dill\n",
    "dill.dump({'train': train_bids,\n",
    "          'valid': valid_bids,\n",
    "          'test': test_bids}, gzip.open('../pretrain/nonlinearbid_logistic_preds.bin.gz','wb'))"
   ]
  },
  {
   "cell_type": "code",
   "execution_count": 21,
   "metadata": {
    "ExecuteTime": {
     "end_time": "2019-03-08T20:54:44.728880Z",
     "start_time": "2019-03-08T20:54:44.723894Z"
    }
   },
   "outputs": [],
   "source": [
    "from Evaluator import _evaluate"
   ]
  },
  {
   "cell_type": "code",
   "execution_count": 22,
   "metadata": {
    "ExecuteTime": {
     "end_time": "2019-03-08T20:54:50.776808Z",
     "start_time": "2019-03-08T20:54:50.435718Z"
    }
   },
   "outputs": [
    {
     "data": {
      "text/plain": [
       "(164,\n",
       " 0.0013104170162443769,\n",
       " 6238.458,\n",
       " 49.84744828247477,\n",
       " 38.039378048780485,\n",
       " 125151)"
      ]
     },
     "execution_count": 22,
     "metadata": {},
     "output_type": "execute_result"
    }
   ],
   "source": [
    "_evaluate(vy, valid_bids)"
   ]
  },
  {
   "cell_type": "markdown",
   "metadata": {},
   "source": [
    "## + avg CTR"
   ]
  },
  {
   "cell_type": "code",
   "execution_count": 16,
   "metadata": {
    "ExecuteTime": {
     "end_time": "2019-03-08T16:12:30.660482Z",
     "start_time": "2019-03-08T16:01:45.195848Z"
    }
   },
   "outputs": [
    {
     "name": "stdout",
     "output_type": "stream",
     "text": [
      "125.18548705985702\n",
      "141.85238346419584\n",
      "144.3068124533798\n",
      "144.32580144279368\n",
      "converge!!\n",
      "Optimal mean, std: 4.972043214925374, 0.0077510061610544185\n",
      "Optimal base_bid: 144.32580144279368\n"
     ]
    }
   ],
   "source": [
    "algo.use_pretrained = True\n",
    "algo.avg_ctr = ty.click.mean()\n",
    "algo._base_params = None\n",
    "number_clicks = ev.evaluate()"
   ]
  },
  {
   "cell_type": "code",
   "execution_count": 17,
   "metadata": {
    "ExecuteTime": {
     "end_time": "2019-03-08T16:12:31.748573Z",
     "start_time": "2019-03-08T16:12:31.736607Z"
    }
   },
   "outputs": [
    {
     "data": {
      "text/plain": [
       "(166,\n",
       " 0.0014804773201576797,\n",
       " 6118.484,\n",
       " 54.567932504503865,\n",
       " 36.858337349397594,\n",
       " 112126)"
      ]
     },
     "execution_count": 17,
     "metadata": {},
     "output_type": "execute_result"
    }
   ],
   "source": [
    "number_clicks"
   ]
  }
 ],
 "metadata": {
  "kernelspec": {
   "display_name": "Python 3",
   "language": "python",
   "name": "python3"
  },
  "language_info": {
   "codemirror_mode": {
    "name": "ipython",
    "version": 3
   },
   "file_extension": ".py",
   "mimetype": "text/x-python",
   "name": "python",
   "nbconvert_exporter": "python",
   "pygments_lexer": "ipython3",
   "version": "3.6.5"
  },
  "latex_envs": {
   "LaTeX_envs_menu_present": true,
   "autoclose": false,
   "autocomplete": true,
   "bibliofile": "biblio.bib",
   "cite_by": "apalike",
   "current_citInitial": 1,
   "eqLabelWithNumbers": true,
   "eqNumInitial": 1,
   "hotkeys": {
    "equation": "Ctrl-E",
    "itemize": "Ctrl-I"
   },
   "labels_anchors": false,
   "latex_user_defs": false,
   "report_style_numbering": false,
   "user_envs_cfg": false
  },
  "toc": {
   "base_numbering": 1,
   "nav_menu": {},
   "number_sections": true,
   "sideBar": true,
   "skip_h1_title": false,
   "title_cell": "Table of Contents",
   "title_sidebar": "Contents",
   "toc_cell": false,
   "toc_position": {},
   "toc_section_display": true,
   "toc_window_display": false
  },
  "varInspector": {
   "cols": {
    "lenName": 16,
    "lenType": 16,
    "lenVar": 40
   },
   "kernels_config": {
    "python": {
     "delete_cmd_postfix": "",
     "delete_cmd_prefix": "del ",
     "library": "var_list.py",
     "varRefreshCmd": "print(var_dic_list())"
    },
    "r": {
     "delete_cmd_postfix": ") ",
     "delete_cmd_prefix": "rm(",
     "library": "var_list.r",
     "varRefreshCmd": "cat(var_dic_list()) "
    }
   },
   "types_to_exclude": [
    "module",
    "function",
    "builtin_function_or_method",
    "instance",
    "_Feature"
   ],
   "window_display": false
  }
 },
 "nbformat": 4,
 "nbformat_minor": 2
}
