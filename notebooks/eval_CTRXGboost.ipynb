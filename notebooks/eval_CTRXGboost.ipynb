{
 "cells": [
  {
   "cell_type": "code",
   "execution_count": 1,
   "metadata": {
    "ExecuteTime": {
     "end_time": "2019-03-09T09:51:13.170917Z",
     "start_time": "2019-03-09T09:51:10.771524Z"
    }
   },
   "outputs": [],
   "source": [
    "import numpy as np, pandas as pd\n",
    "import matplotlib.pyplot as plt\n",
    "import seaborn as sns\n",
    "from tqdm import tqdm\n",
    "import gc\n",
    "\n",
    "plt.rcParams['figure.figsize'] = (8, 5)\n",
    "from IPython.display import set_matplotlib_formats\n",
    "set_matplotlib_formats('png', 'pdf')\n",
    "\n",
    "%matplotlib inline\n",
    "\n",
    "sns.set(font_scale=1.4)\n",
    "sns.set_style(\"ticks\")\n",
    "\n",
    "from sklearn.metrics import roc_auc_score"
   ]
  },
  {
   "cell_type": "code",
   "execution_count": 2,
   "metadata": {
    "ExecuteTime": {
     "end_time": "2019-03-09T09:51:13.461142Z",
     "start_time": "2019-03-09T09:51:13.172912Z"
    }
   },
   "outputs": [],
   "source": [
    "# add pycharm project root path for ease of importing \n",
    "import sys\n",
    "sys.path.append('../')\n",
    "\n",
    "from models.CTRXGboost import CTRXGboost\n",
    "from algorithms.LinearBid import LinearBid\n",
    "\n",
    "from algorithms.CEAlgorithm import CEAlgorithm\n",
    "from algorithms.ConstantBid import ConstantBid, ConstantBidCE\n",
    "from algorithms.RandomBid import RandomBid\n",
    "from Evaluator import Evaluator\n",
    "from DataHandler import DataHandler\n",
    "\n",
    "pd.set_option('display.max_columns', 30)\n",
    "pd.set_option('display.width', 1000)\n",
    "\n",
    "# define the places of the datasets:"
   ]
  },
  {
   "cell_type": "code",
   "execution_count": 3,
   "metadata": {
    "ExecuteTime": {
     "end_time": "2019-03-09T09:51:13.473110Z",
     "start_time": "2019-03-09T09:51:13.467132Z"
    }
   },
   "outputs": [],
   "source": [
    "train_set_path = '../../dataset/we_data/train.csv'\n",
    "vali_set_path = '../../dataset/we_data/validation.csv'\n",
    "test_set_path = '../../dataset/we_data/test.csv'"
   ]
  },
  {
   "cell_type": "code",
   "execution_count": 5,
   "metadata": {
    "ExecuteTime": {
     "end_time": "2019-03-09T09:51:51.329938Z",
     "start_time": "2019-03-09T09:51:13.500039Z"
    }
   },
   "outputs": [],
   "source": [
    "# create a data hanlder instance:\n",
    "data_handler = DataHandler(train_set_path, vali_set_path, test_set_path, debug_mode=False)"
   ]
  },
  {
   "cell_type": "code",
   "execution_count": 6,
   "metadata": {
    "ExecuteTime": {
     "end_time": "2019-03-09T09:51:51.934331Z",
     "start_time": "2019-03-09T09:51:51.332931Z"
    }
   },
   "outputs": [],
   "source": [
    "tx, ty, vx, vy, tex = data_handler.get_datasets()"
   ]
  },
  {
   "cell_type": "markdown",
   "metadata": {},
   "source": [
    "# XGBoost Training"
   ]
  },
  {
   "cell_type": "code",
   "execution_count": 7,
   "metadata": {
    "ExecuteTime": {
     "end_time": "2019-03-09T09:51:51.941311Z",
     "start_time": "2019-03-09T09:51:51.936318Z"
    }
   },
   "outputs": [],
   "source": [
    "np.random.seed(111)"
   ]
  },
  {
   "cell_type": "code",
   "execution_count": 8,
   "metadata": {
    "ExecuteTime": {
     "end_time": "2019-03-09T10:05:16.870217Z",
     "start_time": "2019-03-09T09:51:51.946292Z"
    },
    "scrolled": true
   },
   "outputs": [
    {
     "name": "stdout",
     "output_type": "stream",
     "text": [
      "####### categories: slotformat - orig: 4, after min freq : 4\n",
      "####### categories: adexchange - orig: 5, after min freq : 5\n",
      "####### categories: os - orig: 6, after min freq : 5\n",
      "####### categories: weekday - orig: 7, after min freq : 7\n",
      "####### categories: advertiser - orig: 9, after min freq : 9\n",
      "####### categories: browser - orig: 9, after min freq : 8\n",
      "####### categories: slotvisibility - orig: 11, after min freq : 11\n",
      "####### categories: keypage - orig: 19, after min freq : 19\n",
      "####### categories: hour - orig: 24, after min freq : 24\n",
      "####### categories: region - orig: 35, after min freq : 33\n",
      "####### categories: creative - orig: 128, after min freq : 104\n",
      "####### categories: domain - orig: 8477, after min freq : 281\n",
      "####### categories: city - orig: 370, after min freq : 319\n",
      "####### categories: slotid - orig: 14080, after min freq : 325\n",
      "[0]\tvalidation_0-logloss:0.600089\tvalidation_1-logloss:0.599216\n",
      "Multiple eval metrics have been passed: 'validation_1-logloss' will be used for early stopping.\n",
      "\n",
      "Will train until validation_1-logloss hasn't improved in 10 rounds.\n",
      "[1]\tvalidation_0-logloss:0.523887\tvalidation_1-logloss:0.522215\n",
      "[2]\tvalidation_0-logloss:0.460741\tvalidation_1-logloss:0.45818\n",
      "[3]\tvalidation_0-logloss:0.407129\tvalidation_1-logloss:0.4039\n",
      "[4]\tvalidation_0-logloss:0.361438\tvalidation_1-logloss:0.357547\n",
      "[5]\tvalidation_0-logloss:0.32213\tvalidation_1-logloss:0.317617\n",
      "[6]\tvalidation_0-logloss:0.28784\tvalidation_1-logloss:0.282876\n",
      "[7]\tvalidation_0-logloss:0.25834\tvalidation_1-logloss:0.252724\n",
      "[8]\tvalidation_0-logloss:0.232223\tvalidation_1-logloss:0.226158\n",
      "[9]\tvalidation_0-logloss:0.20929\tvalidation_1-logloss:0.202832\n",
      "[10]\tvalidation_0-logloss:0.188988\tvalidation_1-logloss:0.182201\n",
      "[11]\tvalidation_0-logloss:0.171209\tvalidation_1-logloss:0.163998\n",
      "[12]\tvalidation_0-logloss:0.155456\tvalidation_1-logloss:0.147837\n",
      "[13]\tvalidation_0-logloss:0.141304\tvalidation_1-logloss:0.133429\n",
      "[14]\tvalidation_0-logloss:0.128761\tvalidation_1-logloss:0.120603\n",
      "[15]\tvalidation_0-logloss:0.117706\tvalidation_1-logloss:0.109173\n",
      "[16]\tvalidation_0-logloss:0.107671\tvalidation_1-logloss:0.098936\n",
      "[17]\tvalidation_0-logloss:0.098826\tvalidation_1-logloss:0.08978\n",
      "[18]\tvalidation_0-logloss:0.090931\tvalidation_1-logloss:0.0816\n",
      "[19]\tvalidation_0-logloss:0.083721\tvalidation_1-logloss:0.074229\n",
      "[20]\tvalidation_0-logloss:0.07736\tvalidation_1-logloss:0.067638\n",
      "[21]\tvalidation_0-logloss:0.071591\tvalidation_1-logloss:0.061696\n",
      "[22]\tvalidation_0-logloss:0.066487\tvalidation_1-logloss:0.056373\n",
      "[23]\tvalidation_0-logloss:0.061899\tvalidation_1-logloss:0.051598\n",
      "[24]\tvalidation_0-logloss:0.057806\tvalidation_1-logloss:0.047285\n",
      "[25]\tvalidation_0-logloss:0.053993\tvalidation_1-logloss:0.043383\n",
      "[26]\tvalidation_0-logloss:0.05061\tvalidation_1-logloss:0.039869\n",
      "[27]\tvalidation_0-logloss:0.047545\tvalidation_1-logloss:0.036699\n",
      "[28]\tvalidation_0-logloss:0.044791\tvalidation_1-logloss:0.033848\n",
      "[29]\tvalidation_0-logloss:0.042272\tvalidation_1-logloss:0.03128\n",
      "[30]\tvalidation_0-logloss:0.040044\tvalidation_1-logloss:0.028969\n",
      "[31]\tvalidation_0-logloss:0.038103\tvalidation_1-logloss:0.02688\n",
      "[32]\tvalidation_0-logloss:0.036268\tvalidation_1-logloss:0.024994\n",
      "[33]\tvalidation_0-logloss:0.034554\tvalidation_1-logloss:0.023289\n",
      "[34]\tvalidation_0-logloss:0.033102\tvalidation_1-logloss:0.021761\n",
      "[35]\tvalidation_0-logloss:0.031678\tvalidation_1-logloss:0.020374\n",
      "[36]\tvalidation_0-logloss:0.030433\tvalidation_1-logloss:0.019116\n",
      "[37]\tvalidation_0-logloss:0.029271\tvalidation_1-logloss:0.017984\n",
      "[38]\tvalidation_0-logloss:0.028198\tvalidation_1-logloss:0.016956\n",
      "[39]\tvalidation_0-logloss:0.027213\tvalidation_1-logloss:0.016024\n",
      "[40]\tvalidation_0-logloss:0.026325\tvalidation_1-logloss:0.015183\n",
      "[41]\tvalidation_0-logloss:0.025494\tvalidation_1-logloss:0.014428\n",
      "[42]\tvalidation_0-logloss:0.024741\tvalidation_1-logloss:0.013744\n",
      "[43]\tvalidation_0-logloss:0.024035\tvalidation_1-logloss:0.013124\n",
      "[44]\tvalidation_0-logloss:0.023374\tvalidation_1-logloss:0.012562\n",
      "[45]\tvalidation_0-logloss:0.022765\tvalidation_1-logloss:0.012052\n",
      "[46]\tvalidation_0-logloss:0.022236\tvalidation_1-logloss:0.011584\n",
      "[47]\tvalidation_0-logloss:0.021726\tvalidation_1-logloss:0.011168\n",
      "[48]\tvalidation_0-logloss:0.02129\tvalidation_1-logloss:0.010785\n",
      "[49]\tvalidation_0-logloss:0.020876\tvalidation_1-logloss:0.010439\n",
      "[50]\tvalidation_0-logloss:0.020451\tvalidation_1-logloss:0.010118\n",
      "[51]\tvalidation_0-logloss:0.020051\tvalidation_1-logloss:0.009835\n",
      "[52]\tvalidation_0-logloss:0.019672\tvalidation_1-logloss:0.009579\n",
      "[53]\tvalidation_0-logloss:0.019297\tvalidation_1-logloss:0.009334\n",
      "[54]\tvalidation_0-logloss:0.018913\tvalidation_1-logloss:0.009128\n",
      "[55]\tvalidation_0-logloss:0.018616\tvalidation_1-logloss:0.00893\n",
      "[56]\tvalidation_0-logloss:0.018287\tvalidation_1-logloss:0.00876\n",
      "[57]\tvalidation_0-logloss:0.018046\tvalidation_1-logloss:0.008599\n",
      "[58]\tvalidation_0-logloss:0.017741\tvalidation_1-logloss:0.008454\n",
      "[59]\tvalidation_0-logloss:0.017463\tvalidation_1-logloss:0.008327\n",
      "[60]\tvalidation_0-logloss:0.017188\tvalidation_1-logloss:0.0082\n",
      "[61]\tvalidation_0-logloss:0.016974\tvalidation_1-logloss:0.008093\n",
      "[62]\tvalidation_0-logloss:0.016738\tvalidation_1-logloss:0.007996\n",
      "[63]\tvalidation_0-logloss:0.016569\tvalidation_1-logloss:0.0079\n",
      "[64]\tvalidation_0-logloss:0.016351\tvalidation_1-logloss:0.007809\n",
      "[65]\tvalidation_0-logloss:0.016163\tvalidation_1-logloss:0.007725\n",
      "[66]\tvalidation_0-logloss:0.01602\tvalidation_1-logloss:0.007656\n",
      "[67]\tvalidation_0-logloss:0.015876\tvalidation_1-logloss:0.007594\n",
      "[68]\tvalidation_0-logloss:0.015732\tvalidation_1-logloss:0.007532\n",
      "[69]\tvalidation_0-logloss:0.01557\tvalidation_1-logloss:0.007472\n",
      "[70]\tvalidation_0-logloss:0.015428\tvalidation_1-logloss:0.007426\n",
      "[71]\tvalidation_0-logloss:0.015269\tvalidation_1-logloss:0.007379\n",
      "[72]\tvalidation_0-logloss:0.015154\tvalidation_1-logloss:0.00734\n",
      "[73]\tvalidation_0-logloss:0.015041\tvalidation_1-logloss:0.007303\n",
      "[74]\tvalidation_0-logloss:0.01488\tvalidation_1-logloss:0.007262\n",
      "[75]\tvalidation_0-logloss:0.014778\tvalidation_1-logloss:0.00723\n",
      "[76]\tvalidation_0-logloss:0.014715\tvalidation_1-logloss:0.007201\n",
      "[77]\tvalidation_0-logloss:0.014651\tvalidation_1-logloss:0.007178\n",
      "[78]\tvalidation_0-logloss:0.014562\tvalidation_1-logloss:0.007155\n",
      "[79]\tvalidation_0-logloss:0.014529\tvalidation_1-logloss:0.007135\n",
      "[80]\tvalidation_0-logloss:0.014487\tvalidation_1-logloss:0.007121\n",
      "[81]\tvalidation_0-logloss:0.014397\tvalidation_1-logloss:0.007098\n",
      "[82]\tvalidation_0-logloss:0.014346\tvalidation_1-logloss:0.007085\n",
      "[83]\tvalidation_0-logloss:0.014254\tvalidation_1-logloss:0.00707\n",
      "[84]\tvalidation_0-logloss:0.014241\tvalidation_1-logloss:0.007064\n",
      "[85]\tvalidation_0-logloss:0.014141\tvalidation_1-logloss:0.007043\n",
      "[86]\tvalidation_0-logloss:0.014098\tvalidation_1-logloss:0.007033\n",
      "[87]\tvalidation_0-logloss:0.014074\tvalidation_1-logloss:0.007028\n",
      "[88]\tvalidation_0-logloss:0.014066\tvalidation_1-logloss:0.007027\n",
      "[89]\tvalidation_0-logloss:0.014009\tvalidation_1-logloss:0.007016\n",
      "[90]\tvalidation_0-logloss:0.013941\tvalidation_1-logloss:0.006998\n",
      "[91]\tvalidation_0-logloss:0.013934\tvalidation_1-logloss:0.006997\n",
      "[92]\tvalidation_0-logloss:0.013913\tvalidation_1-logloss:0.00699\n",
      "[93]\tvalidation_0-logloss:0.013893\tvalidation_1-logloss:0.006989\n",
      "[94]\tvalidation_0-logloss:0.013874\tvalidation_1-logloss:0.006988\n",
      "[95]\tvalidation_0-logloss:0.013819\tvalidation_1-logloss:0.00698\n",
      "[96]\tvalidation_0-logloss:0.013765\tvalidation_1-logloss:0.00697\n",
      "[97]\tvalidation_0-logloss:0.013748\tvalidation_1-logloss:0.006966\n",
      "[98]\tvalidation_0-logloss:0.01374\tvalidation_1-logloss:0.006966\n",
      "[99]\tvalidation_0-logloss:0.013683\tvalidation_1-logloss:0.006961\n",
      "start training calibration\n",
      "finish training calibration\n",
      "102.13097525264813\n",
      "125.92359292911053\n",
      "133.07427380405704\n",
      "136.28751811249046\n",
      "138.10288933637906\n",
      "139.40318381058108\n",
      "139.7535276118427\n",
      "converge!!\n",
      "Optimal mean, std: 4.939878103999453, 0.0021213298485258233\n",
      "Optimal train click: 172.01\n",
      "Optimal base_bid: 139.7535276118427\n"
     ]
    }
   ],
   "source": [
    "ceAlgo = CEAlgorithm(n_samples=100, p=0.3, max_iter=10, n_jobs=10)\n",
    "ctrXG = CTRXGboost()\n",
    "\n",
    "algo = LinearBid(ceAlgo, ctrModel=ctrXG, n_rounds=1, submission=True)\n",
    "\n",
    "ev = Evaluator(algo, data_handler)\n",
    "\n",
    "number_clicks = ev.evaluate()"
   ]
  },
  {
   "cell_type": "code",
   "execution_count": 9,
   "metadata": {
    "ExecuteTime": {
     "end_time": "2019-03-09T10:07:51.399737Z",
     "start_time": "2019-03-09T10:07:51.389766Z"
    }
   },
   "outputs": [
    {
     "data": {
      "text/plain": [
       "(173,\n",
       " 0.0015403518769143102,\n",
       " 6097.353,\n",
       " 54.28941698126648,\n",
       " 35.24481502890173,\n",
       " 112312)"
      ]
     },
     "execution_count": 9,
     "metadata": {},
     "output_type": "execute_result"
    }
   ],
   "source": [
    "number_clicks"
   ]
  },
  {
   "cell_type": "code",
   "execution_count": 10,
   "metadata": {
    "ExecuteTime": {
     "end_time": "2019-03-09T10:08:01.845039Z",
     "start_time": "2019-03-09T10:07:53.149248Z"
    }
   },
   "outputs": [],
   "source": [
    "import dill, gzip\n",
    "dill.dump(algo, gzip.open('../pretrain/linearbid_xgb.bin.gz','w+b'))"
   ]
  },
  {
   "cell_type": "code",
   "execution_count": 11,
   "metadata": {
    "ExecuteTime": {
     "end_time": "2019-03-09T10:08:02.518244Z",
     "start_time": "2019-03-09T10:08:02.507239Z"
    }
   },
   "outputs": [
    {
     "data": {
      "text/plain": [
       "0.0006646376573167722"
      ]
     },
     "execution_count": 11,
     "metadata": {},
     "output_type": "execute_result"
    }
   ],
   "source": [
    "algo.avg_ctr_valid"
   ]
  },
  {
   "cell_type": "code",
   "execution_count": 12,
   "metadata": {
    "ExecuteTime": {
     "end_time": "2019-03-09T10:08:26.223698Z",
     "start_time": "2019-03-09T10:08:02.524194Z"
    }
   },
   "outputs": [
    {
     "data": {
      "text/plain": [
       "0.8953859582775773"
      ]
     },
     "execution_count": 12,
     "metadata": {},
     "output_type": "execute_result"
    }
   ],
   "source": [
    "p = algo.ctrModel.predict(vx)\n",
    "roc_auc_score(vy.click, p)"
   ]
  },
  {
   "cell_type": "code",
   "execution_count": 13,
   "metadata": {
    "ExecuteTime": {
     "end_time": "2019-03-09T10:08:26.233642Z",
     "start_time": "2019-03-09T10:08:26.226661Z"
    }
   },
   "outputs": [
    {
     "data": {
      "text/plain": [
       "139.7535276118427"
      ]
     },
     "execution_count": 13,
     "metadata": {},
     "output_type": "execute_result"
    }
   ],
   "source": [
    "algo._base_params"
   ]
  }
 ],
 "metadata": {
  "kernelspec": {
   "display_name": "Python 3",
   "language": "python",
   "name": "python3"
  },
  "language_info": {
   "codemirror_mode": {
    "name": "ipython",
    "version": 3
   },
   "file_extension": ".py",
   "mimetype": "text/x-python",
   "name": "python",
   "nbconvert_exporter": "python",
   "pygments_lexer": "ipython3",
   "version": "3.6.5"
  },
  "latex_envs": {
   "LaTeX_envs_menu_present": true,
   "autoclose": false,
   "autocomplete": true,
   "bibliofile": "biblio.bib",
   "cite_by": "apalike",
   "current_citInitial": 1,
   "eqLabelWithNumbers": true,
   "eqNumInitial": 1,
   "hotkeys": {
    "equation": "Ctrl-E",
    "itemize": "Ctrl-I"
   },
   "labels_anchors": false,
   "latex_user_defs": false,
   "report_style_numbering": false,
   "user_envs_cfg": false
  },
  "toc": {
   "base_numbering": 1,
   "nav_menu": {},
   "number_sections": true,
   "sideBar": true,
   "skip_h1_title": false,
   "title_cell": "Table of Contents",
   "title_sidebar": "Contents",
   "toc_cell": false,
   "toc_position": {},
   "toc_section_display": true,
   "toc_window_display": false
  },
  "varInspector": {
   "cols": {
    "lenName": 16,
    "lenType": 16,
    "lenVar": 40
   },
   "kernels_config": {
    "python": {
     "delete_cmd_postfix": "",
     "delete_cmd_prefix": "del ",
     "library": "var_list.py",
     "varRefreshCmd": "print(var_dic_list())"
    },
    "r": {
     "delete_cmd_postfix": ") ",
     "delete_cmd_prefix": "rm(",
     "library": "var_list.r",
     "varRefreshCmd": "cat(var_dic_list()) "
    }
   },
   "types_to_exclude": [
    "module",
    "function",
    "builtin_function_or_method",
    "instance",
    "_Feature"
   ],
   "window_display": false
  }
 },
 "nbformat": 4,
 "nbformat_minor": 2
}
