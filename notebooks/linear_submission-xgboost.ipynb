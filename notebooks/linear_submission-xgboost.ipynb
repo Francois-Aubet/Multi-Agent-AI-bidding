{
 "cells": [
  {
   "cell_type": "code",
   "execution_count": 2,
   "metadata": {
    "ExecuteTime": {
     "end_time": "2019-03-02T22:23:04.523264Z",
     "start_time": "2019-03-02T22:23:02.437821Z"
    }
   },
   "outputs": [],
   "source": [
    "import numpy as np, pandas as pd\n",
    "import matplotlib.pyplot as plt\n",
    "import seaborn as sns\n",
    "from tqdm import tqdm\n",
    "import gc\n",
    "\n",
    "plt.rcParams['figure.figsize'] = (8, 5)\n",
    "from IPython.display import set_matplotlib_formats\n",
    "set_matplotlib_formats('png', 'pdf')\n",
    "\n",
    "%matplotlib inline\n",
    "\n",
    "sns.set(font_scale=1.4)\n",
    "sns.set_style(\"ticks\")\n",
    "\n",
    "from sklearn.metrics import roc_auc_score"
   ]
  },
  {
   "cell_type": "code",
   "execution_count": 3,
   "metadata": {
    "ExecuteTime": {
     "end_time": "2019-03-02T22:23:04.643941Z",
     "start_time": "2019-03-02T22:23:04.526049Z"
    }
   },
   "outputs": [],
   "source": [
    "# add pycharm project root path for ease of importing \n",
    "import sys\n",
    "sys.path.append('../')\n",
    "\n",
    "from CTRModels.CTRXGboost import CTRXGboost\n",
    "from algorithms.LinearBid import LinearBid\n",
    "\n",
    "from algorithms.CEAlgorithm import CEAlgorithm\n",
    "from algorithms.ConstantBid import ConstantBid, ConstantBidCE\n",
    "from algorithms.RandomBid import RandomBid\n",
    "from Evaluator import Evaluator\n",
    "from DataHandler import DataHandler\n",
    "\n",
    "pd.set_option('display.max_columns', 30)\n",
    "pd.set_option('display.width', 1000)\n",
    "\n",
    "# define the places of the datasets:"
   ]
  },
  {
   "cell_type": "code",
   "execution_count": 4,
   "metadata": {
    "ExecuteTime": {
     "end_time": "2019-03-02T22:23:04.658694Z",
     "start_time": "2019-03-02T22:23:04.650715Z"
    }
   },
   "outputs": [],
   "source": [
    "train_set_path = '../../dataset/we_data/train.csv'\n",
    "vali_set_path = '../../dataset/we_data/validation.csv'\n",
    "test_set_path = '../../dataset/we_data/test.csv'"
   ]
  },
  {
   "cell_type": "code",
   "execution_count": 5,
   "metadata": {
    "ExecuteTime": {
     "end_time": "2019-03-02T22:20:27.381998Z",
     "start_time": "2019-03-02T22:20:04.652540Z"
    }
   },
   "outputs": [],
   "source": [
    "# Combine train and validations sets \n",
    "# df = pd.concat([pd.read_csv(train_set_path), pd.read_csv(vali_set_path)])\n",
    "# df.to_csv('../../dataset/we_data/submission_train.csv', index=False)"
   ]
  },
  {
   "cell_type": "code",
   "execution_count": 6,
   "metadata": {
    "ExecuteTime": {
     "end_time": "2019-03-02T22:24:21.221065Z",
     "start_time": "2019-03-02T22:23:54.792759Z"
    }
   },
   "outputs": [],
   "source": [
    "# create a data hanlder instance:\n",
    "data_handler = DataHandler(train_set_path, vali_set_path, test_set_path, debug_mode=False)"
   ]
  },
  {
   "cell_type": "code",
   "execution_count": 7,
   "metadata": {},
   "outputs": [],
   "source": [
    "tx, ty, vx, vy, tex = data_handler.get_datasets()"
   ]
  },
  {
   "cell_type": "markdown",
   "metadata": {},
   "source": [
    "# XGBoost Training"
   ]
  },
  {
   "cell_type": "code",
   "execution_count": 8,
   "metadata": {
    "ExecuteTime": {
     "end_time": "2019-03-02T22:24:27.105940Z",
     "start_time": "2019-03-02T22:24:27.101948Z"
    }
   },
   "outputs": [],
   "source": [
    "np.random.seed(111)"
   ]
  },
  {
   "cell_type": "code",
   "execution_count": 9,
   "metadata": {
    "ExecuteTime": {
     "end_time": "2019-03-02T22:37:20.632795Z",
     "start_time": "2019-03-02T22:24:27.119900Z"
    },
    "scrolled": false
   },
   "outputs": [
    {
     "name": "stdout",
     "output_type": "stream",
     "text": [
      "####### categories: slotformat - orig: 4, after min freq : 4\n",
      "####### categories: adexchange - orig: 5, after min freq : 5\n",
      "####### categories: os - orig: 6, after min freq : 5\n",
      "####### categories: weekday - orig: 7, after min freq : 7\n",
      "####### categories: advertiser - orig: 9, after min freq : 9\n",
      "####### categories: browser - orig: 9, after min freq : 8\n",
      "####### categories: slotvisibility - orig: 11, after min freq : 11\n",
      "####### categories: keypage - orig: 19, after min freq : 19\n",
      "####### categories: hour - orig: 24, after min freq : 24\n",
      "####### categories: region - orig: 35, after min freq : 33\n",
      "####### categories: creative - orig: 128, after min freq : 104\n",
      "####### categories: domain - orig: 8477, after min freq : 281\n",
      "####### categories: city - orig: 370, after min freq : 319\n",
      "####### categories: slotid - orig: 14080, after min freq : 325\n",
      "[0]\tvalidation_0-logloss:0.600547\tvalidation_1-logloss:0.599452\n",
      "Multiple eval metrics have been passed: 'validation_1-logloss' will be used for early stopping.\n",
      "\n",
      "Will train until validation_1-logloss hasn't improved in 10 rounds.\n",
      "[1]\tvalidation_0-logloss:0.524763\tvalidation_1-logloss:0.522673\n",
      "[2]\tvalidation_0-logloss:0.461083\tvalidation_1-logloss:0.458351\n",
      "[3]\tvalidation_0-logloss:0.407579\tvalidation_1-logloss:0.404104\n",
      "[4]\tvalidation_0-logloss:0.361609\tvalidation_1-logloss:0.35761\n",
      "[5]\tvalidation_0-logloss:0.322265\tvalidation_1-logloss:0.317649\n",
      "[6]\tvalidation_0-logloss:0.288422\tvalidation_1-logloss:0.283087\n",
      "[7]\tvalidation_0-logloss:0.258578\tvalidation_1-logloss:0.252775\n",
      "[8]\tvalidation_0-logloss:0.232374\tvalidation_1-logloss:0.226201\n",
      "[9]\tvalidation_0-logloss:0.209337\tvalidation_1-logloss:0.202823\n",
      "[10]\tvalidation_0-logloss:0.189023\tvalidation_1-logloss:0.182193\n",
      "[11]\tvalidation_0-logloss:0.171078\tvalidation_1-logloss:0.16393\n",
      "[12]\tvalidation_0-logloss:0.155196\tvalidation_1-logloss:0.147739\n",
      "[13]\tvalidation_0-logloss:0.141065\tvalidation_1-logloss:0.133337\n",
      "[14]\tvalidation_0-logloss:0.128671\tvalidation_1-logloss:0.120567\n",
      "[15]\tvalidation_0-logloss:0.11765\tvalidation_1-logloss:0.109162\n",
      "[16]\tvalidation_0-logloss:0.107662\tvalidation_1-logloss:0.098931\n",
      "[17]\tvalidation_0-logloss:0.09873\tvalidation_1-logloss:0.089758\n",
      "[18]\tvalidation_0-logloss:0.090694\tvalidation_1-logloss:0.08154\n",
      "[19]\tvalidation_0-logloss:0.083545\tvalidation_1-logloss:0.074169\n",
      "[20]\tvalidation_0-logloss:0.077143\tvalidation_1-logloss:0.067572\n",
      "[21]\tvalidation_0-logloss:0.071481\tvalidation_1-logloss:0.06165\n",
      "[22]\tvalidation_0-logloss:0.066282\tvalidation_1-logloss:0.056311\n",
      "[23]\tvalidation_0-logloss:0.061723\tvalidation_1-logloss:0.051525\n",
      "[24]\tvalidation_0-logloss:0.057559\tvalidation_1-logloss:0.047201\n",
      "[25]\tvalidation_0-logloss:0.053821\tvalidation_1-logloss:0.043319\n",
      "[26]\tvalidation_0-logloss:0.050423\tvalidation_1-logloss:0.039815\n",
      "[27]\tvalidation_0-logloss:0.047431\tvalidation_1-logloss:0.036669\n",
      "[28]\tvalidation_0-logloss:0.044726\tvalidation_1-logloss:0.033831\n",
      "[29]\tvalidation_0-logloss:0.042244\tvalidation_1-logloss:0.031255\n",
      "[30]\tvalidation_0-logloss:0.040163\tvalidation_1-logloss:0.028952\n",
      "[31]\tvalidation_0-logloss:0.03811\tvalidation_1-logloss:0.026862\n",
      "[32]\tvalidation_0-logloss:0.036258\tvalidation_1-logloss:0.024979\n",
      "[33]\tvalidation_0-logloss:0.034598\tvalidation_1-logloss:0.023279\n",
      "[34]\tvalidation_0-logloss:0.033063\tvalidation_1-logloss:0.021755\n",
      "[35]\tvalidation_0-logloss:0.031693\tvalidation_1-logloss:0.02037\n",
      "[36]\tvalidation_0-logloss:0.030464\tvalidation_1-logloss:0.019118\n",
      "[37]\tvalidation_0-logloss:0.029311\tvalidation_1-logloss:0.017971\n",
      "[38]\tvalidation_0-logloss:0.028294\tvalidation_1-logloss:0.016944\n",
      "[39]\tvalidation_0-logloss:0.0274\tvalidation_1-logloss:0.016016\n",
      "[40]\tvalidation_0-logloss:0.026584\tvalidation_1-logloss:0.015182\n",
      "[41]\tvalidation_0-logloss:0.025778\tvalidation_1-logloss:0.014433\n",
      "[42]\tvalidation_0-logloss:0.024998\tvalidation_1-logloss:0.01374\n",
      "[43]\tvalidation_0-logloss:0.024291\tvalidation_1-logloss:0.013117\n",
      "[44]\tvalidation_0-logloss:0.023608\tvalidation_1-logloss:0.012548\n",
      "[45]\tvalidation_0-logloss:0.022981\tvalidation_1-logloss:0.012036\n",
      "[46]\tvalidation_0-logloss:0.022428\tvalidation_1-logloss:0.011574\n",
      "[47]\tvalidation_0-logloss:0.021923\tvalidation_1-logloss:0.011154\n",
      "[48]\tvalidation_0-logloss:0.021402\tvalidation_1-logloss:0.010777\n",
      "[49]\tvalidation_0-logloss:0.020915\tvalidation_1-logloss:0.010439\n",
      "[50]\tvalidation_0-logloss:0.020482\tvalidation_1-logloss:0.010126\n",
      "[51]\tvalidation_0-logloss:0.020068\tvalidation_1-logloss:0.009852\n",
      "[52]\tvalidation_0-logloss:0.019674\tvalidation_1-logloss:0.009596\n",
      "[53]\tvalidation_0-logloss:0.019326\tvalidation_1-logloss:0.009366\n",
      "[54]\tvalidation_0-logloss:0.019017\tvalidation_1-logloss:0.009151\n",
      "[55]\tvalidation_0-logloss:0.018748\tvalidation_1-logloss:0.008949\n",
      "[56]\tvalidation_0-logloss:0.01843\tvalidation_1-logloss:0.008765\n",
      "[57]\tvalidation_0-logloss:0.018139\tvalidation_1-logloss:0.008597\n",
      "[58]\tvalidation_0-logloss:0.01787\tvalidation_1-logloss:0.008452\n",
      "[59]\tvalidation_0-logloss:0.017603\tvalidation_1-logloss:0.008326\n",
      "[60]\tvalidation_0-logloss:0.017329\tvalidation_1-logloss:0.008202\n",
      "[61]\tvalidation_0-logloss:0.017081\tvalidation_1-logloss:0.008089\n",
      "[62]\tvalidation_0-logloss:0.016856\tvalidation_1-logloss:0.007984\n",
      "[63]\tvalidation_0-logloss:0.016655\tvalidation_1-logloss:0.007885\n",
      "[64]\tvalidation_0-logloss:0.016522\tvalidation_1-logloss:0.007801\n",
      "[65]\tvalidation_0-logloss:0.016345\tvalidation_1-logloss:0.007715\n",
      "[66]\tvalidation_0-logloss:0.016203\tvalidation_1-logloss:0.007646\n",
      "[67]\tvalidation_0-logloss:0.01606\tvalidation_1-logloss:0.007576\n",
      "[68]\tvalidation_0-logloss:0.015936\tvalidation_1-logloss:0.007523\n",
      "[69]\tvalidation_0-logloss:0.015807\tvalidation_1-logloss:0.007475\n",
      "[70]\tvalidation_0-logloss:0.015681\tvalidation_1-logloss:0.00743\n",
      "[71]\tvalidation_0-logloss:0.015548\tvalidation_1-logloss:0.007387\n",
      "[72]\tvalidation_0-logloss:0.015432\tvalidation_1-logloss:0.007345\n",
      "[73]\tvalidation_0-logloss:0.015337\tvalidation_1-logloss:0.007306\n",
      "[74]\tvalidation_0-logloss:0.015193\tvalidation_1-logloss:0.00727\n",
      "[75]\tvalidation_0-logloss:0.015106\tvalidation_1-logloss:0.007238\n",
      "[76]\tvalidation_0-logloss:0.01499\tvalidation_1-logloss:0.007211\n",
      "[77]\tvalidation_0-logloss:0.014916\tvalidation_1-logloss:0.007185\n",
      "[78]\tvalidation_0-logloss:0.014788\tvalidation_1-logloss:0.007158\n",
      "[79]\tvalidation_0-logloss:0.014697\tvalidation_1-logloss:0.007137\n",
      "[80]\tvalidation_0-logloss:0.014614\tvalidation_1-logloss:0.00712\n",
      "[81]\tvalidation_0-logloss:0.014573\tvalidation_1-logloss:0.007109\n",
      "[82]\tvalidation_0-logloss:0.014494\tvalidation_1-logloss:0.007091\n",
      "[83]\tvalidation_0-logloss:0.014438\tvalidation_1-logloss:0.007081\n",
      "[84]\tvalidation_0-logloss:0.014421\tvalidation_1-logloss:0.007074\n",
      "[85]\tvalidation_0-logloss:0.014369\tvalidation_1-logloss:0.007062\n",
      "[86]\tvalidation_0-logloss:0.014287\tvalidation_1-logloss:0.007048\n",
      "[87]\tvalidation_0-logloss:0.0142\tvalidation_1-logloss:0.007039\n",
      "[88]\tvalidation_0-logloss:0.014191\tvalidation_1-logloss:0.007037\n",
      "[89]\tvalidation_0-logloss:0.014145\tvalidation_1-logloss:0.007031\n",
      "[90]\tvalidation_0-logloss:0.01413\tvalidation_1-logloss:0.007027\n",
      "[91]\tvalidation_0-logloss:0.014087\tvalidation_1-logloss:0.007022\n",
      "[92]\tvalidation_0-logloss:0.014064\tvalidation_1-logloss:0.007018\n",
      "[93]\tvalidation_0-logloss:0.014035\tvalidation_1-logloss:0.007007\n",
      "[94]\tvalidation_0-logloss:0.014027\tvalidation_1-logloss:0.007008\n",
      "[95]\tvalidation_0-logloss:0.014019\tvalidation_1-logloss:0.007007\n",
      "[96]\tvalidation_0-logloss:0.01397\tvalidation_1-logloss:0.006996\n",
      "[97]\tvalidation_0-logloss:0.01392\tvalidation_1-logloss:0.006991\n",
      "[98]\tvalidation_0-logloss:0.013867\tvalidation_1-logloss:0.006981\n",
      "[99]\tvalidation_0-logloss:0.013801\tvalidation_1-logloss:0.006965\n",
      "start training calibration\n",
      "finish training calibration\n",
      "102.13097525264813\n",
      "123.42956549472683\n",
      "127.76400686676592\n",
      "130.72679075467104\n",
      "130.6656683458811\n",
      "converge!!\n",
      "Optimal mean, std: 4.872619967545377, 0.006624701909573397\n",
      "Optimal base_bid: 130.6656683458811\n"
     ]
    }
   ],
   "source": [
    "ceAlgo = CEAlgorithm(n_samples=100, p=0.3, max_iter=10, n_jobs=10)\n",
    "ctrXG = CTRXGboost()\n",
    "\n",
    "algo = LinearBid(ceAlgo, ctrModel=ctrXG, n_rounds=1, submission=True)\n",
    "\n",
    "ev = Evaluator(algo, data_handler)\n",
    "\n",
    "number_clicks = ev.evaluate()"
   ]
  },
  {
   "cell_type": "code",
   "execution_count": 10,
   "metadata": {
    "ExecuteTime": {
     "end_time": "2019-03-02T16:14:27.854453Z",
     "start_time": "2019-03-02T16:14:27.823210Z"
    }
   },
   "outputs": [
    {
     "data": {
      "text/plain": [
       "(170,\n",
       " 0.0015225471317898884,\n",
       " 6076.349,\n",
       " 54.420751421790335,\n",
       " 35.74322941176471,\n",
       " 111655)"
      ]
     },
     "execution_count": 10,
     "metadata": {},
     "output_type": "execute_result"
    }
   ],
   "source": [
    "number_clicks"
   ]
  },
  {
   "cell_type": "code",
   "execution_count": 11,
   "metadata": {
    "ExecuteTime": {
     "end_time": "2019-03-03T09:11:44.442079Z",
     "start_time": "2019-03-03T09:11:44.370150Z"
    }
   },
   "outputs": [
    {
     "data": {
      "text/plain": [
       "0.0006646376573167723"
      ]
     },
     "execution_count": 11,
     "metadata": {},
     "output_type": "execute_result"
    }
   ],
   "source": [
    "algo.avg_ctr_valid"
   ]
  },
  {
   "cell_type": "code",
   "execution_count": 12,
   "metadata": {
    "ExecuteTime": {
     "end_time": "2019-02-27T03:29:18.512461Z",
     "start_time": "2019-02-27T03:28:47.106801Z"
    }
   },
   "outputs": [
    {
     "data": {
      "text/plain": [
       "0.8914570347010106"
      ]
     },
     "execution_count": 12,
     "metadata": {},
     "output_type": "execute_result"
    }
   ],
   "source": [
    "p = algo.ctrModel.predict(vx)\n",
    "roc_auc_score(vy.click, p)"
   ]
  },
  {
   "cell_type": "code",
   "execution_count": 28,
   "metadata": {
    "ExecuteTime": {
     "end_time": "2019-03-02T22:38:04.774108Z",
     "start_time": "2019-03-02T22:38:04.765133Z"
    }
   },
   "outputs": [
    {
     "data": {
      "text/plain": [
       "145"
      ]
     },
     "execution_count": 28,
     "metadata": {},
     "output_type": "execute_result"
    }
   ],
   "source": [
    "algo._base_params"
   ]
  },
  {
   "cell_type": "code",
   "execution_count": 38,
   "metadata": {
    "ExecuteTime": {
     "end_time": "2019-03-02T22:40:23.062092Z",
     "start_time": "2019-03-02T22:40:23.059101Z"
    }
   },
   "outputs": [],
   "source": [
    "# use alternative base bid  \n",
    "algo._base_params = 140"
   ]
  },
  {
   "cell_type": "code",
   "execution_count": 39,
   "metadata": {
    "ExecuteTime": {
     "end_time": "2019-03-02T22:38:25.054024Z",
     "start_time": "2019-03-02T22:38:07.613514Z"
    }
   },
   "outputs": [],
   "source": [
    "bids = algo.predict(tex, mode='test')"
   ]
  },
  {
   "cell_type": "markdown",
   "metadata": {},
   "source": [
    "# Generate csv"
   ]
  },
  {
   "cell_type": "code",
   "execution_count": 40,
   "metadata": {
    "ExecuteTime": {
     "end_time": "2019-03-02T22:38:27.258144Z",
     "start_time": "2019-03-02T22:38:27.214249Z"
    }
   },
   "outputs": [],
   "source": [
    "submission = tex.bidid.to_frame()"
   ]
  },
  {
   "cell_type": "code",
   "execution_count": 41,
   "metadata": {
    "ExecuteTime": {
     "end_time": "2019-03-02T22:38:29.437301Z",
     "start_time": "2019-03-02T22:38:29.428325Z"
    }
   },
   "outputs": [],
   "source": [
    "submission['bidprice'] = bids"
   ]
  },
  {
   "cell_type": "code",
   "execution_count": 42,
   "metadata": {
    "ExecuteTime": {
     "end_time": "2019-03-02T22:39:06.734807Z",
     "start_time": "2019-03-02T22:39:05.535587Z"
    }
   },
   "outputs": [],
   "source": [
    "submission.to_csv('../../submissions/xgboost_train_and_valid.csv', index=False)"
   ]
  },
  {
   "cell_type": "code",
   "execution_count": 43,
   "metadata": {
    "ExecuteTime": {
     "end_time": "2019-03-02T22:39:38.636397Z",
     "start_time": "2019-03-02T22:39:38.630416Z"
    }
   },
   "outputs": [
    {
     "data": {
      "text/plain": [
       "(253626,)"
      ]
     },
     "execution_count": 43,
     "metadata": {},
     "output_type": "execute_result"
    }
   ],
   "source": [
    "bids.nonzero()[0].shape"
   ]
  },
  {
   "cell_type": "markdown",
   "metadata": {},
   "source": [
    "# Submit to leaderboard"
   ]
  },
  {
   "cell_type": "code",
   "execution_count": 47,
   "metadata": {
    "ExecuteTime": {
     "end_time": "2019-03-02T22:40:35.613890Z",
     "start_time": "2019-03-02T22:40:35.608906Z"
    }
   },
   "outputs": [],
   "source": [
    "r = []"
   ]
  },
  {
   "cell_type": "code",
   "execution_count": 48,
   "metadata": {
    "ExecuteTime": {
     "end_time": "2019-03-02T22:41:43.987857Z",
     "start_time": "2019-03-02T22:40:37.782090Z"
    }
   },
   "outputs": [],
   "source": [
    "import requests\n",
    "with open('../../submissions/xgboost_train_and_valid.csv', 'rb') as f:\n",
    "    r += [requests.post('http://deepmining.cs.ucl.ac.uk/api/upload/wining_criteria_2/31pr3HIVQEC9', \n",
    "                      files={'file': f})]"
   ]
  },
  {
   "cell_type": "code",
   "execution_count": 49,
   "metadata": {
    "ExecuteTime": {
     "end_time": "2019-03-02T22:41:46.102993Z",
     "start_time": "2019-03-02T22:41:46.096013Z"
    }
   },
   "outputs": [
    {
     "name": "stdout",
     "output_type": "stream",
     "text": [
      "{\n",
      "  \"daily submission limit\": 5, \n",
      "  \"group\": \"3\", \n",
      "  \"ranking\": 4, \n",
      "  \"result\": {\n",
      "    \"clicks\": 14, \n",
      "    \"cost\": 4348.604165398205, \n",
      "    \"cpc\": 310.6145832427289, \n",
      "    \"ctr\": 0.000782472613458529, \n",
      "    \"impressions\": 17892\n",
      "  }, \n",
      "  \"today tried times\": 1\n",
      "}\n",
      "\n"
     ]
    }
   ],
   "source": [
    "print(r[-1].content.decode('utf-8'))"
   ]
  },
  {
   "cell_type": "code",
   "execution_count": null,
   "metadata": {},
   "outputs": [],
   "source": []
  }
 ],
 "metadata": {
  "kernelspec": {
   "display_name": "Python 3",
   "language": "python",
   "name": "python3"
  },
  "language_info": {
   "codemirror_mode": {
    "name": "ipython",
    "version": 3
   },
   "file_extension": ".py",
   "mimetype": "text/x-python",
   "name": "python",
   "nbconvert_exporter": "python",
   "pygments_lexer": "ipython3",
   "version": "3.6.5"
  },
  "latex_envs": {
   "LaTeX_envs_menu_present": true,
   "autoclose": false,
   "autocomplete": true,
   "bibliofile": "biblio.bib",
   "cite_by": "apalike",
   "current_citInitial": 1.0,
   "eqLabelWithNumbers": true,
   "eqNumInitial": 1.0,
   "hotkeys": {
    "equation": "Ctrl-E",
    "itemize": "Ctrl-I"
   },
   "labels_anchors": false,
   "latex_user_defs": false,
   "report_style_numbering": false,
   "user_envs_cfg": false
  },
  "toc": {
   "base_numbering": 1.0,
   "nav_menu": {},
   "number_sections": true,
   "sideBar": true,
   "skip_h1_title": false,
   "title_cell": "Table of Contents",
   "title_sidebar": "Contents",
   "toc_cell": false,
   "toc_position": {},
   "toc_section_display": true,
   "toc_window_display": false
  },
  "varInspector": {
   "cols": {
    "lenName": 16.0,
    "lenType": 16.0,
    "lenVar": 40.0
   },
   "kernels_config": {
    "python": {
     "delete_cmd_postfix": "",
     "delete_cmd_prefix": "del ",
     "library": "var_list.py",
     "varRefreshCmd": "print(var_dic_list())"
    },
    "r": {
     "delete_cmd_postfix": ") ",
     "delete_cmd_prefix": "rm(",
     "library": "var_list.r",
     "varRefreshCmd": "cat(var_dic_list()) "
    }
   },
   "types_to_exclude": [
    "module",
    "function",
    "builtin_function_or_method",
    "instance",
    "_Feature"
   ],
   "window_display": false
  }
 },
 "nbformat": 4,
 "nbformat_minor": 2
}
