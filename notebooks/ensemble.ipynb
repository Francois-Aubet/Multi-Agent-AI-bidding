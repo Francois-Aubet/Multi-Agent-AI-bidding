{
 "cells": [
  {
   "cell_type": "code",
   "execution_count": 1,
   "metadata": {
    "ExecuteTime": {
     "end_time": "2019-03-09T10:16:15.981310Z",
     "start_time": "2019-03-09T10:16:12.619343Z"
    }
   },
   "outputs": [],
   "source": [
    "import numpy as np, pandas as pd\n",
    "import matplotlib.pyplot as plt\n",
    "import seaborn as sns\n",
    "from tqdm import tqdm_notebook as tqdm\n",
    "import gc\n",
    "\n",
    "plt.rcParams['figure.figsize'] = (8, 5)\n",
    "from IPython.display import set_matplotlib_formats\n",
    "set_matplotlib_formats('png', 'pdf')\n",
    "\n",
    "%matplotlib inline\n",
    "\n",
    "sns.set(font_scale=1.4)\n",
    "sns.set_style(\"ticks\")\n",
    "\n",
    "from sklearn.metrics import roc_auc_score"
   ]
  },
  {
   "cell_type": "code",
   "execution_count": 2,
   "metadata": {
    "ExecuteTime": {
     "end_time": "2019-03-09T10:16:16.378957Z",
     "start_time": "2019-03-09T10:16:15.987291Z"
    }
   },
   "outputs": [],
   "source": [
    "# add pycharm project root path for ease of importing \n",
    "import sys\n",
    "sys.path.append('../')\n",
    "\n",
    "from models.CTRLogistic import CTRLogistic\n",
    "from models.CTRXGboost import CTRXGboost\n",
    "from algorithms.LinearBid import LinearBid, NonLinearBid\n",
    "\n",
    "from algorithms.CEAlgorithm import CEAlgorithm\n",
    "from algorithms.ConstantBid import ConstantBid, ConstantBidCE\n",
    "from algorithms.RandomBid import RandomBid\n",
    "from DataHandler import DataHandler\n",
    "from Evaluator import _evaluate\n",
    "\n",
    "pd.set_option('display.max_columns', 30)\n",
    "pd.set_option('display.width', 1000)\n",
    "\n",
    "import dill as pickle\n",
    "import gzip"
   ]
  },
  {
   "cell_type": "markdown",
   "metadata": {},
   "source": [
    "# Load data files"
   ]
  },
  {
   "cell_type": "code",
   "execution_count": 3,
   "metadata": {
    "ExecuteTime": {
     "end_time": "2019-03-09T10:16:16.535461Z",
     "start_time": "2019-03-09T10:16:16.521500Z"
    }
   },
   "outputs": [],
   "source": [
    "train_set_path = '../../dataset/we_data/train.csv'\n",
    "vali_set_path = '../../dataset/we_data/validation.csv'\n",
    "test_set_path = '../../dataset/we_data/test.csv'"
   ]
  },
  {
   "cell_type": "code",
   "execution_count": 4,
   "metadata": {
    "ExecuteTime": {
     "end_time": "2019-03-09T10:16:41.966165Z",
     "start_time": "2019-03-09T10:16:16.542444Z"
    }
   },
   "outputs": [],
   "source": [
    "# create a data hanlder instance:\n",
    "data_handler = DataHandler(train_set_path, vali_set_path, test_set_path, debug_mode=False)"
   ]
  },
  {
   "cell_type": "code",
   "execution_count": 5,
   "metadata": {
    "ExecuteTime": {
     "end_time": "2019-03-09T10:16:42.500549Z",
     "start_time": "2019-03-09T10:16:41.969965Z"
    }
   },
   "outputs": [],
   "source": [
    "tx, ty, vx, vy, tex = data_handler.get_datasets()"
   ]
  },
  {
   "cell_type": "markdown",
   "metadata": {
    "heading_collapsed": true
   },
   "source": [
    "# Train"
   ]
  },
  {
   "cell_type": "code",
   "execution_count": 6,
   "metadata": {
    "ExecuteTime": {
     "end_time": "2019-03-09T10:08:30.108523Z",
     "start_time": "2019-03-09T10:08:29.912502Z"
    },
    "hidden": true
   },
   "outputs": [],
   "source": [
    "linear_xgb = pickle.load(gzip.open('../pretrain/linearbid_xgb.bin.gz', 'r+b'))"
   ]
  },
  {
   "cell_type": "code",
   "execution_count": 10,
   "metadata": {
    "ExecuteTime": {
     "end_time": "2019-03-09T10:15:09.646676Z",
     "start_time": "2019-03-09T10:12:40.488955Z"
    },
    "hidden": true
   },
   "outputs": [
    {
     "name": "stdout",
     "output_type": "stream",
     "text": [
      "Optimal c, lmd: 40, 1.1000000000000013e-06\n"
     ]
    }
   ],
   "source": [
    "nonlinear_xgb = NonLinearBid(ctrModel=linear_xgb.ctrModel)\n",
    "nonlinear_xgb.train_base_bid(data_handler)"
   ]
  },
  {
   "cell_type": "code",
   "execution_count": 11,
   "metadata": {
    "ExecuteTime": {
     "end_time": "2019-03-09T10:15:27.727630Z",
     "start_time": "2019-03-09T10:15:09.651663Z"
    },
    "hidden": true
   },
   "outputs": [
    {
     "data": {
      "text/plain": [
       "(169,\n",
       " 0.0014150903899453223,\n",
       " 5921.501,\n",
       " 49.58259857486163,\n",
       " 35.0384674556213,\n",
       " 119427)"
      ]
     },
     "execution_count": 11,
     "metadata": {},
     "output_type": "execute_result"
    }
   ],
   "source": [
    "_evaluate(vy, nonlinear_xgb.predict(vx))"
   ]
  },
  {
   "cell_type": "code",
   "execution_count": 12,
   "metadata": {
    "ExecuteTime": {
     "end_time": "2019-03-09T10:15:45.994509Z",
     "start_time": "2019-03-09T10:15:42.964353Z"
    },
    "hidden": true
   },
   "outputs": [],
   "source": [
    "pickle.dump(nonlinear_xgb, gzip.open('../pretrain/nonlinearbid_xgb.bin.gz','wb'))"
   ]
  },
  {
   "cell_type": "markdown",
   "metadata": {},
   "source": [
    "# Load pretrained"
   ]
  },
  {
   "cell_type": "code",
   "execution_count": 6,
   "metadata": {
    "ExecuteTime": {
     "end_time": "2019-03-09T10:16:58.211800Z",
     "start_time": "2019-03-09T10:16:57.961305Z"
    }
   },
   "outputs": [],
   "source": [
    "linear_xgb = pickle.load(gzip.open('../pretrain/linearbid_xgb.bin.gz', 'r+b'))\n",
    "nonlinear_xgb = pickle.load(gzip.open('../pretrain/nonlinearbid_xgb.bin.gz', 'r+b'))"
   ]
  },
  {
   "cell_type": "code",
   "execution_count": 7,
   "metadata": {
    "ExecuteTime": {
     "end_time": "2019-03-09T10:16:59.136466Z",
     "start_time": "2019-03-09T10:16:58.213629Z"
    }
   },
   "outputs": [],
   "source": [
    "linear_log_preds = pickle.load(gzip.open('../pretrain/linearbid_logistic_preds.bin.gz', 'r+b'))\n",
    "nonlinear_log_preds = pickle.load(gzip.open('../pretrain/nonlinearbid_logistic_preds.bin.gz', 'r+b'))\n",
    "cdf_log_preds = pickle.load(gzip.open('../pretrain/cdfbid_logistic_preds.bin.gz', 'r+b'))\n",
    "cdf_xgb_preds = pickle.load(gzip.open('../pretrain/cdfbid_xgb_preds.bin.gz', 'r+b'))"
   ]
  },
  {
   "cell_type": "code",
   "execution_count": 8,
   "metadata": {
    "ExecuteTime": {
     "end_time": "2019-03-09T10:21:50.825934Z",
     "start_time": "2019-03-09T10:16:59.139233Z"
    }
   },
   "outputs": [],
   "source": [
    "pred_log = linear_log_preds['train']\n",
    "pred_xgb = linear_xgb.predict(tx, mode='valid')\n",
    "pred_nnlog = nonlinear_log_preds['train']\n",
    "pred_nnxgb = nonlinear_xgb.predict(tx)\n",
    "\n",
    "pred_cdflog = cdf_log_preds['train']\n",
    "pred_cdfxgb = cdf_xgb_preds['train']"
   ]
  },
  {
   "cell_type": "code",
   "execution_count": 9,
   "metadata": {
    "ExecuteTime": {
     "end_time": "2019-03-09T10:21:51.054325Z",
     "start_time": "2019-03-09T10:21:50.829924Z"
    }
   },
   "outputs": [],
   "source": [
    "bids_raw = np.vstack([pred_log, pred_xgb, pred_nnlog, pred_nnxgb, pred_cdflog, pred_cdfxgb])"
   ]
  },
  {
   "cell_type": "code",
   "execution_count": 16,
   "metadata": {
    "ExecuteTime": {
     "end_time": "2019-03-09T10:23:39.520813Z",
     "start_time": "2019-03-09T10:23:39.388165Z"
    }
   },
   "outputs": [],
   "source": [
    "train_y = pd.DataFrame(np.hstack([ty.values, bids_raw.T]))\n",
    "train_y.columns = ty.columns.to_list()+train_y.columns[len(ty.columns):].tolist()"
   ]
  },
  {
   "cell_type": "code",
   "execution_count": 17,
   "metadata": {
    "ExecuteTime": {
     "end_time": "2019-03-09T10:24:34.368439Z",
     "start_time": "2019-03-09T10:23:49.563083Z"
    }
   },
   "outputs": [],
   "source": [
    "pickle.dump(train_y, gzip.open('../pretrain/ensemble_train_y_preds.bin.gz','wb'))"
   ]
  },
  {
   "cell_type": "code",
   "execution_count": 18,
   "metadata": {
    "ExecuteTime": {
     "end_time": "2019-03-09T10:25:07.340968Z",
     "start_time": "2019-03-09T10:24:35.093505Z"
    }
   },
   "outputs": [],
   "source": [
    "pred_log = linear_log_preds['valid']\n",
    "pred_xgb = linear_xgb.predict(vx, mode='valid')\n",
    "pred_nnlog = nonlinear_log_preds['valid']\n",
    "pred_nnxgb = nonlinear_xgb.predict(vx)\n",
    "\n",
    "pred_cdflog = cdf_log_preds['valid']\n",
    "pred_cdfxgb = cdf_xgb_preds['valid']"
   ]
  },
  {
   "cell_type": "code",
   "execution_count": 19,
   "metadata": {
    "ExecuteTime": {
     "end_time": "2019-03-09T10:25:07.423746Z",
     "start_time": "2019-03-09T10:25:07.344958Z"
    }
   },
   "outputs": [],
   "source": [
    "bids_raw = np.vstack([pred_log, pred_xgb, pred_nnlog, pred_nnxgb, pred_cdflog, pred_cdfxgb])"
   ]
  },
  {
   "cell_type": "code",
   "execution_count": 20,
   "metadata": {
    "ExecuteTime": {
     "end_time": "2019-03-09T10:25:09.307478Z",
     "start_time": "2019-03-09T10:25:09.276562Z"
    }
   },
   "outputs": [],
   "source": [
    "valid_y = pd.DataFrame(np.hstack([vy.values, bids_raw.T]))\n",
    "valid_y.columns = vy.columns.to_list()+valid_y.columns[len(vy.columns):].tolist()"
   ]
  },
  {
   "cell_type": "code",
   "execution_count": 21,
   "metadata": {
    "ExecuteTime": {
     "end_time": "2019-03-09T10:32:38.488343Z",
     "start_time": "2019-03-09T10:32:25.644668Z"
    }
   },
   "outputs": [],
   "source": [
    "pickle.dump(valid_y, gzip.open('../pretrain/ensemble_valid_y_preds.bin.gz','wb'))"
   ]
  },
  {
   "cell_type": "code",
   "execution_count": 35,
   "metadata": {
    "ExecuteTime": {
     "end_time": "2019-03-09T11:00:31.051832Z",
     "start_time": "2019-03-09T10:59:59.298625Z"
    }
   },
   "outputs": [],
   "source": [
    "pred_log = linear_log_preds['test']\n",
    "pred_xgb = linear_xgb.predict(tex, mode='test')\n",
    "pred_nnlog = nonlinear_log_preds['test']\n",
    "pred_nnxgb = nonlinear_xgb.predict(tex)\n",
    "\n",
    "pred_cdflog = cdf_log_preds['test']\n",
    "pred_cdfxgb = cdf_xgb_preds['test']"
   ]
  },
  {
   "cell_type": "code",
   "execution_count": 40,
   "metadata": {
    "ExecuteTime": {
     "end_time": "2019-03-09T11:04:39.468375Z",
     "start_time": "2019-03-09T11:04:39.398564Z"
    }
   },
   "outputs": [],
   "source": [
    "bids_raw = np.vstack([pred_log, pred_xgb, pred_nnlog, pred_nnxgb, pred_cdflog, pred_cdfxgb])"
   ]
  },
  {
   "cell_type": "code",
   "execution_count": 41,
   "metadata": {
    "ExecuteTime": {
     "end_time": "2019-03-09T11:05:22.380297Z",
     "start_time": "2019-03-09T11:05:22.151909Z"
    }
   },
   "outputs": [],
   "source": [
    "test_y = pd.DataFrame(bids_raw).T"
   ]
  },
  {
   "cell_type": "code",
   "execution_count": 42,
   "metadata": {
    "ExecuteTime": {
     "end_time": "2019-03-09T11:05:25.580875Z",
     "start_time": "2019-03-09T11:05:23.141266Z"
    }
   },
   "outputs": [],
   "source": [
    "pickle.dump(test_y, gzip.open('../pretrain/ensemble_test_preds.bin.gz','wb'))"
   ]
  },
  {
   "cell_type": "markdown",
   "metadata": {},
   "source": [
    "# Ensembling"
   ]
  },
  {
   "cell_type": "markdown",
   "metadata": {},
   "source": [
    "## Load predictions"
   ]
  },
  {
   "cell_type": "code",
   "execution_count": 6,
   "metadata": {
    "ExecuteTime": {
     "end_time": "2019-03-09T02:01:58.613540Z",
     "start_time": "2019-03-09T02:01:57.573272Z"
    }
   },
   "outputs": [],
   "source": [
    "train_y = pickle.load(gzip.open('../pretrain/ensemble_train_y_preds.bin.gz','rb'))\n",
    "valid_y = pickle.load(gzip.open('../pretrain/ensemble_valid_y_preds.bin.gz','rb'))"
   ]
  },
  {
   "cell_type": "markdown",
   "metadata": {},
   "source": [
    "## Compute weights"
   ]
  },
  {
   "cell_type": "code",
   "execution_count": 22,
   "metadata": {
    "ExecuteTime": {
     "end_time": "2019-03-09T10:32:58.982490Z",
     "start_time": "2019-03-09T10:32:58.975512Z"
    }
   },
   "outputs": [],
   "source": [
    "from Evaluator import _evaluate\n",
    "from algorithms.CEEnsemble import CEEnsemble"
   ]
  },
  {
   "cell_type": "code",
   "execution_count": 23,
   "metadata": {
    "ExecuteTime": {
     "end_time": "2019-03-09T10:33:13.111731Z",
     "start_time": "2019-03-09T10:33:00.941256Z"
    }
   },
   "outputs": [
    {
     "name": "stdout",
     "output_type": "stream",
     "text": [
      "[1698 1785 1657 1779 1721 1791]\n"
     ]
    }
   ],
   "source": [
    "init = []\n",
    "for i in range(train_y.shape[1]-3):\n",
    "    init.append(_evaluate(ty, train_y.iloc[:,3+i].values)[0])\n",
    "\n",
    "init = np.array(init)\n",
    "print(init)\n",
    "\n",
    "init = init/init.sum()"
   ]
  },
  {
   "cell_type": "code",
   "execution_count": 24,
   "metadata": {
    "ExecuteTime": {
     "end_time": "2019-03-09T10:33:14.255673Z",
     "start_time": "2019-03-09T10:33:14.247695Z"
    }
   },
   "outputs": [
    {
     "data": {
      "text/plain": [
       "array([0.16278401, 0.17112453, 0.15885342, 0.17054932, 0.16498898,\n",
       "       0.17169974])"
      ]
     },
     "execution_count": 24,
     "metadata": {},
     "output_type": "execute_result"
    }
   ],
   "source": [
    "init"
   ]
  },
  {
   "cell_type": "code",
   "execution_count": 25,
   "metadata": {
    "ExecuteTime": {
     "end_time": "2019-03-09T10:33:17.972741Z",
     "start_time": "2019-03-09T10:33:16.213444Z"
    }
   },
   "outputs": [
    {
     "name": "stdout",
     "output_type": "stream",
     "text": [
      "(166, 0.0014819311526924725, 6091.884, 54.38405227824596, 36.69809638554217, 112016)\n",
      "(173, 0.0015403518769143102, 6097.353, 54.28941698126648, 35.24481502890173, 112312)\n",
      "(164, 0.0013104170162443769, 6238.458, 49.84744828247477, 38.039378048780485, 125151)\n",
      "(169, 0.0014150903899453223, 5921.501, 49.58259857486163, 35.0384674556213, 119427)\n",
      "(157, 0.0014448606215661554, 5888.972, 54.19582002742474, 37.50937579617834, 108661)\n",
      "(171, 0.002223320158102767, 5955.344, 77.43062200956938, 34.82657309941521, 76912)\n"
     ]
    }
   ],
   "source": [
    "for i in range(valid_y.shape[1]-3):\n",
    "    print(_evaluate(vy, valid_y.iloc[:,3+i].values))"
   ]
  },
  {
   "cell_type": "code",
   "execution_count": 59,
   "metadata": {
    "ExecuteTime": {
     "end_time": "2019-03-09T11:49:40.104972Z",
     "start_time": "2019-03-09T11:43:52.182382Z"
    }
   },
   "outputs": [
    {
     "name": "stdout",
     "output_type": "stream",
     "text": [
      "102.0 [0.23451611 0.27900058 0.19820285 0.33990962]\n",
      "175.0 [0.14382936 0.16176251 0.13967941 0.56564127]\n",
      "201.0 [0.0931865  0.12225656 0.13072693 0.52131517]\n",
      "202.0 [0.09074314 0.14238043 0.13603581 0.52744718]\n",
      "202.0 [0.1074495  0.10085408 0.13460124 0.49677356]\n",
      "201.0 [0.13906216 0.12519896 0.13546826 0.55819499]\n",
      "201.0 [0.15517284 0.10539188 0.15616291 0.56386529]\n",
      "199.0 [0.16869958 0.12419077 0.18888206 0.58404809]\n",
      "202.0 [0.14575741 0.13120231 0.19251608 0.56610793]\n",
      "202.0 [0.13408145 0.11834282 0.16515827 0.57197318]\n",
      "Optimal weights: [0.13408145 0.11834282 0.16515827 0.57197318]\n"
     ]
    }
   ],
   "source": [
    "np.random.seed(121)\n",
    "wgt = CEEnsemble(n_samples=100, p=0.2, max_iter=10, n_jobs=12).train(train_y.drop(columns=[5,7]), valid_y.drop(columns=[5,7]))"
   ]
  },
  {
   "cell_type": "code",
   "execution_count": 60,
   "metadata": {
    "ExecuteTime": {
     "end_time": "2019-03-09T11:49:50.943098Z",
     "start_time": "2019-03-09T11:49:47.351695Z"
    }
   },
   "outputs": [
    {
     "data": {
      "text/plain": [
       "(174.0,\n",
       " 0.001796555569322265,\n",
       " 6260.933,\n",
       " 64.64433362243423,\n",
       " 35.98237356321839,\n",
       " 96852)"
      ]
     },
     "execution_count": 60,
     "metadata": {},
     "output_type": "execute_result"
    }
   ],
   "source": [
    "valid_bids = valid_y.drop(columns=[5, 7]).iloc[:,3:]@wgt\n",
    "_evaluate(valid_y, valid_bids)"
   ]
  },
  {
   "cell_type": "code",
   "execution_count": 61,
   "metadata": {
    "ExecuteTime": {
     "end_time": "2019-03-09T11:50:09.320437Z",
     "start_time": "2019-03-09T11:50:09.202626Z"
    }
   },
   "outputs": [],
   "source": [
    "test_y = pickle.load(gzip.open('../pretrain/ensemble_test_preds.bin.gz','rb'))"
   ]
  },
  {
   "cell_type": "code",
   "execution_count": 62,
   "metadata": {
    "ExecuteTime": {
     "end_time": "2019-03-09T11:50:13.695587Z",
     "start_time": "2019-03-09T11:50:13.679631Z"
    }
   },
   "outputs": [],
   "source": [
    "test_bids = test_y.drop(columns=[2, 4])@wgt"
   ]
  },
  {
   "cell_type": "code",
   "execution_count": 63,
   "metadata": {
    "ExecuteTime": {
     "end_time": "2019-03-09T11:50:18.987444Z",
     "start_time": "2019-03-09T11:50:18.448884Z"
    }
   },
   "outputs": [],
   "source": [
    "dump = {}\n",
    "dump.update(dict(zip(vx.bidid, valid_bids)))\n",
    "dump.update(dict(zip(tex.bidid, test_bids)))"
   ]
  },
  {
   "cell_type": "code",
   "execution_count": 64,
   "metadata": {
    "ExecuteTime": {
     "end_time": "2019-03-09T11:50:43.884886Z",
     "start_time": "2019-03-09T11:50:23.689591Z"
    }
   },
   "outputs": [],
   "source": [
    "pickle.dump(dump, gzip.open('../pretrain/prepared_ensemble.gz','wb'))"
   ]
  },
  {
   "cell_type": "markdown",
   "metadata": {},
   "source": [
    "# Submission"
   ]
  },
  {
   "cell_type": "code",
   "execution_count": 65,
   "metadata": {
    "ExecuteTime": {
     "end_time": "2019-03-09T11:51:54.881694Z",
     "start_time": "2019-03-09T11:51:54.868727Z"
    }
   },
   "outputs": [],
   "source": [
    "submission = tex.bidid.to_frame()\n",
    "submission['bidprice'] = test_bids"
   ]
  },
  {
   "cell_type": "code",
   "execution_count": 66,
   "metadata": {
    "ExecuteTime": {
     "end_time": "2019-03-09T11:52:05.076812Z",
     "start_time": "2019-03-09T11:52:04.002686Z"
    }
   },
   "outputs": [],
   "source": [
    "submission.to_csv('../../submissions/ensemble.csv', index=False)"
   ]
  },
  {
   "cell_type": "code",
   "execution_count": 67,
   "metadata": {
    "ExecuteTime": {
     "end_time": "2019-03-09T11:52:17.883131Z",
     "start_time": "2019-03-09T11:52:17.878145Z"
    }
   },
   "outputs": [],
   "source": [
    "r = []"
   ]
  },
  {
   "cell_type": "code",
   "execution_count": 70,
   "metadata": {
    "ExecuteTime": {
     "end_time": "2019-03-09T11:56:08.937261Z",
     "start_time": "2019-03-09T11:54:52.282016Z"
    }
   },
   "outputs": [],
   "source": [
    "# import requests\n",
    "# with open('../../submissions/ensemble.csv', 'rb') as f:\n",
    "#     r += [requests.post('http://deepmining.cs.ucl.ac.uk/api/upload/wining_criteria_1/31pr3HIVQEC9', \n",
    "#                       files={'file': f})]"
   ]
  },
  {
   "cell_type": "code",
   "execution_count": 71,
   "metadata": {
    "ExecuteTime": {
     "end_time": "2019-03-09T11:56:08.958199Z",
     "start_time": "2019-03-09T11:56:08.943242Z"
    }
   },
   "outputs": [
    {
     "name": "stdout",
     "output_type": "stream",
     "text": [
      "{\n",
      "  \"best result\": {\n",
      "    \"clicks\": 186, \n",
      "    \"cost\": 5990.831000001053, \n",
      "    \"cpc\": 32.208768817209965, \n",
      "    \"ctr\": 0.0019278207334010489, \n",
      "    \"impressions\": 96482\n",
      "  }, \n",
      "  \"daily submission limit\": 5, \n",
      "  \"group\": \"3\", \n",
      "  \"ranking\": 1, \n",
      "  \"result\": {\n",
      "    \"clicks\": 186, \n",
      "    \"cost\": 5990.831000001053, \n",
      "    \"cpc\": 32.208768817209965, \n",
      "    \"ctr\": 0.0019278207334010489, \n",
      "    \"impressions\": 96482\n",
      "  }, \n",
      "  \"today tried times\": 4\n",
      "}\n",
      "\n"
     ]
    }
   ],
   "source": [
    "print(r[-1].content.decode('utf-8'))"
   ]
  },
  {
   "cell_type": "code",
   "execution_count": 72,
   "metadata": {
    "ExecuteTime": {
     "end_time": "2019-03-09T11:58:45.826066Z",
     "start_time": "2019-03-09T11:57:01.043462Z"
    }
   },
   "outputs": [],
   "source": [
    "# import requests\n",
    "# with open('../../submissions/ensemble.csv', 'rb') as f:\n",
    "#     r += [requests.post('http://deepmining.cs.ucl.ac.uk/api/upload/wining_criteria_2/31pr3HIVQEC9', \n",
    "#                       files={'file': f})]"
   ]
  },
  {
   "cell_type": "code",
   "execution_count": 73,
   "metadata": {
    "ExecuteTime": {
     "end_time": "2019-03-09T11:58:50.083536Z",
     "start_time": "2019-03-09T11:58:50.077548Z"
    }
   },
   "outputs": [
    {
     "name": "stdout",
     "output_type": "stream",
     "text": [
      "{\n",
      "  \"daily submission limit\": 5, \n",
      "  \"group\": \"3\", \n",
      "  \"ranking\": 3, \n",
      "  \"result\": {\n",
      "    \"clicks\": 21, \n",
      "    \"cost\": 2304.788217015783, \n",
      "    \"cpc\": 109.75181985789443, \n",
      "    \"ctr\": 0.0026714158504007124, \n",
      "    \"impressions\": 7861\n",
      "  }, \n",
      "  \"today tried times\": 1\n",
      "}\n",
      "\n"
     ]
    }
   ],
   "source": [
    "print(r[-1].content.decode('utf-8'))"
   ]
  }
 ],
 "metadata": {
  "kernelspec": {
   "display_name": "Python 3",
   "language": "python",
   "name": "python3"
  },
  "language_info": {
   "codemirror_mode": {
    "name": "ipython",
    "version": 3
   },
   "file_extension": ".py",
   "mimetype": "text/x-python",
   "name": "python",
   "nbconvert_exporter": "python",
   "pygments_lexer": "ipython3",
   "version": "3.6.5"
  },
  "latex_envs": {
   "LaTeX_envs_menu_present": true,
   "autoclose": false,
   "autocomplete": true,
   "bibliofile": "biblio.bib",
   "cite_by": "apalike",
   "current_citInitial": 1,
   "eqLabelWithNumbers": true,
   "eqNumInitial": 1,
   "hotkeys": {
    "equation": "Ctrl-E",
    "itemize": "Ctrl-I"
   },
   "labels_anchors": false,
   "latex_user_defs": false,
   "report_style_numbering": false,
   "user_envs_cfg": false
  },
  "toc": {
   "base_numbering": 1,
   "nav_menu": {},
   "number_sections": true,
   "sideBar": true,
   "skip_h1_title": false,
   "title_cell": "Table of Contents",
   "title_sidebar": "Contents",
   "toc_cell": false,
   "toc_position": {},
   "toc_section_display": true,
   "toc_window_display": false
  },
  "varInspector": {
   "cols": {
    "lenName": 16,
    "lenType": 16,
    "lenVar": 40
   },
   "kernels_config": {
    "python": {
     "delete_cmd_postfix": "",
     "delete_cmd_prefix": "del ",
     "library": "var_list.py",
     "varRefreshCmd": "print(var_dic_list())"
    },
    "r": {
     "delete_cmd_postfix": ") ",
     "delete_cmd_prefix": "rm(",
     "library": "var_list.r",
     "varRefreshCmd": "cat(var_dic_list()) "
    }
   },
   "types_to_exclude": [
    "module",
    "function",
    "builtin_function_or_method",
    "instance",
    "_Feature"
   ],
   "window_display": false
  }
 },
 "nbformat": 4,
 "nbformat_minor": 2
}
