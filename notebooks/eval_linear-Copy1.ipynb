{
 "cells": [
  {
   "cell_type": "code",
   "execution_count": 1,
   "metadata": {
    "ExecuteTime": {
     "end_time": "2019-03-04T14:05:18.901431Z",
     "start_time": "2019-03-04T14:05:16.093812Z"
    }
   },
   "outputs": [],
   "source": [
    "import numpy as np, pandas as pd\n",
    "import matplotlib.pyplot as plt\n",
    "import seaborn as sns\n",
    "from tqdm import tqdm\n",
    "import gc\n",
    "\n",
    "plt.rcParams['figure.figsize'] = (8, 5)\n",
    "from IPython.display import set_matplotlib_formats\n",
    "set_matplotlib_formats('png', 'pdf')\n",
    "\n",
    "%matplotlib inline\n",
    "\n",
    "sns.set(font_scale=1.4)\n",
    "sns.set_style(\"ticks\")\n",
    "\n",
    "from sklearn.metrics import roc_auc_score"
   ]
  },
  {
   "cell_type": "code",
   "execution_count": 2,
   "metadata": {
    "ExecuteTime": {
     "end_time": "2019-03-04T14:05:19.151213Z",
     "start_time": "2019-03-04T14:05:18.963757Z"
    }
   },
   "outputs": [],
   "source": [
    "# add pycharm project root path for ease of importing \n",
    "import sys\n",
    "sys.path.append('../')\n",
    "\n",
    "from CTRModels.CTRLogistic import CTRLogistic\n",
    "from algorithms.LinearBid import LinearBid\n",
    "\n",
    "from algorithms.CEAlgorithm import CEAlgorithm\n",
    "from algorithms.ConstantBid import ConstantBid, ConstantBidCE\n",
    "from algorithms.RandomBid import RandomBid\n",
    "from Evaluator import Evaluator\n",
    "from DataHandler import DataHandler\n",
    "\n",
    "pd.set_option('display.max_columns', 30)\n",
    "pd.set_option('display.width', 1000)\n",
    "\n",
    "# define the places of the datasets:"
   ]
  },
  {
   "cell_type": "code",
   "execution_count": 3,
   "metadata": {
    "ExecuteTime": {
     "end_time": "2019-03-04T14:05:19.276183Z",
     "start_time": "2019-03-04T14:05:19.260563Z"
    }
   },
   "outputs": [],
   "source": [
    "train_set_path = '../../dataset/we_data/train.csv'\n",
    "vali_set_path = '../../dataset/we_data/validation.csv'\n",
    "test_set_path = '../../dataset/we_data/test.csv'"
   ]
  },
  {
   "cell_type": "code",
   "execution_count": 4,
   "metadata": {
    "ExecuteTime": {
     "end_time": "2019-03-04T14:05:43.512622Z",
     "start_time": "2019-03-04T14:05:19.667001Z"
    }
   },
   "outputs": [],
   "source": [
    "# create a data hanlder instance:\n",
    "data_handler = DataHandler(train_set_path, vali_set_path, test_set_path, debug_mode=False)"
   ]
  },
  {
   "cell_type": "code",
   "execution_count": 5,
   "metadata": {
    "ExecuteTime": {
     "end_time": "2019-03-04T14:05:44.184321Z",
     "start_time": "2019-03-04T14:05:43.543847Z"
    }
   },
   "outputs": [],
   "source": [
    "tx, ty, vx, vy, tex = data_handler.get_datasets()"
   ]
  },
  {
   "cell_type": "markdown",
   "metadata": {},
   "source": [
    "# Logistic"
   ]
  },
  {
   "cell_type": "markdown",
   "metadata": {},
   "source": [
    "* Calibrate probablity + avgCTR $\\approx$ Calibrate probability + avgPCTR > avgCTR"
   ]
  },
  {
   "cell_type": "markdown",
   "metadata": {},
   "source": [
    "## Calibrated probability + avg pCTR"
   ]
  },
  {
   "cell_type": "code",
   "execution_count": 30,
   "metadata": {
    "ExecuteTime": {
     "end_time": "2019-03-04T16:09:32.692161Z",
     "start_time": "2019-03-04T16:09:32.679741Z"
    }
   },
   "outputs": [],
   "source": [
    "np.random.seed(100)"
   ]
  },
  {
   "cell_type": "code",
   "execution_count": 31,
   "metadata": {
    "ExecuteTime": {
     "end_time": "2019-03-04T16:34:58.211001Z",
     "start_time": "2019-03-04T16:09:32.695247Z"
    }
   },
   "outputs": [
    {
     "name": "stdout",
     "output_type": "stream",
     "text": [
      "####### categories: slotformat - orig: 4, after min freq : 4\n",
      "####### categories: adexchange - orig: 5, after min freq : 5\n",
      "####### categories: os - orig: 6, after min freq : 6\n",
      "####### categories: weekday - orig: 7, after min freq : 7\n",
      "####### categories: advertiser - orig: 9, after min freq : 9\n",
      "####### categories: browser - orig: 9, after min freq : 9\n",
      "####### categories: slotvisibility - orig: 11, after min freq : 11\n",
      "####### categories: slotheight - orig: 14, after min freq : 14\n",
      "####### categories: keypage - orig: 19, after min freq : 19\n",
      "####### categories: slotwidth - orig: 21, after min freq : 21\n",
      "####### categories: hour - orig: 24, after min freq : 24\n",
      "####### categories: region - orig: 35, after min freq : 35\n",
      "####### categories: useragent - orig: 38, after min freq : 38\n",
      "####### categories: creative - orig: 131, after min freq : 131\n",
      "####### categories: slotprice - orig: 286, after min freq : 286\n",
      "####### categories: city - orig: 370, after min freq : 370\n",
      "####### categories: domain - orig: 23013, after min freq : 23013\n",
      "####### categories: slotid - orig: 52283, after min freq : 52283\n",
      "####### categories: IP - orig: 503975, after min freq : 503975\n",
      "####### categories: url - orig: 763961, after min freq : 763961\n"
     ]
    },
    {
     "name": "stderr",
     "output_type": "stream",
     "text": [
      "C:\\Anaconda2\\envs\\py36\\lib\\site-packages\\sklearn\\linear_model\\logistic.py:758: ConvergenceWarning: lbfgs failed to converge. Increase the number of iterations.\n",
      "  \"of iterations.\", ConvergenceWarning)\n"
     ]
    },
    {
     "name": "stdout",
     "output_type": "stream",
     "text": [
      "112.87275081737168\n",
      "135.11295519030205\n",
      "141.22656417814787\n",
      "141.3722709575078\n",
      "converge!!\n",
      "Optimal mean, std: 4.951190122010974, 0.020322827903079873\n",
      "Optimal base_bid: 141.3722709575078\n"
     ]
    }
   ],
   "source": [
    "ceAlgo = CEAlgorithm(n_samples=100, p=0.2, max_iter=10, n_jobs=10)\n",
    "ctrLog = CTRLogistic(features=['slotformat',\n",
    "                 'adexchange',\n",
    "                 'os',\n",
    "                 'weekday',\n",
    "                 'advertiser',\n",
    "                 'browser',\n",
    "                 'slotvisibility',\n",
    "                 'slotheight',\n",
    "                 'keypage',\n",
    "                 'slotwidth',\n",
    "                 'hour',\n",
    "                 'region',\n",
    "                 'useragent',\n",
    "                 'creative',\n",
    "                 'slotprice',  # low ranking feature imp but more clicks in the end\n",
    "#                  'slotprice_z',\n",
    "                 'city',\n",
    "                 'domain',\n",
    "                 'slotid',\n",
    "                 'IP',  # 'IP split',\n",
    "                 # 'usertag',\n",
    "                 'bag of tags',\n",
    "                 'url'])\n",
    "\n",
    "algo = LinearBid(ceAlgo, ctrModel=ctrLog, n_rounds=1)\n",
    "\n",
    "ev = Evaluator(algo, data_handler)\n",
    "\n",
    "number_clicks = ev.evaluate()"
   ]
  },
  {
   "cell_type": "code",
   "execution_count": 29,
   "metadata": {
    "ExecuteTime": {
     "end_time": "2019-03-04T16:08:20.177082Z",
     "start_time": "2019-03-04T16:08:20.095538Z"
    }
   },
   "outputs": [
    {
     "data": {
      "text/plain": [
       "(161,\n",
       " 0.0014919425833773503,\n",
       " 5811.543,\n",
       " 53.8539656945873,\n",
       " 36.0965403726708,\n",
       " 107913)"
      ]
     },
     "execution_count": 29,
     "metadata": {},
     "output_type": "execute_result"
    }
   ],
   "source": [
    "number_clicks"
   ]
  },
  {
   "cell_type": "code",
   "execution_count": null,
   "metadata": {},
   "outputs": [],
   "source": []
  },
  {
   "cell_type": "code",
   "execution_count": 24,
   "metadata": {
    "ExecuteTime": {
     "end_time": "2019-03-04T15:15:03.476784Z",
     "start_time": "2019-03-04T15:15:03.461327Z"
    }
   },
   "outputs": [
    {
     "data": {
      "text/plain": [
       "(165,\n",
       " 0.0014790114825073278,\n",
       " 6063.087,\n",
       " 54.34772904509641,\n",
       " 36.74598181818182,\n",
       " 111561)"
      ]
     },
     "execution_count": 24,
     "metadata": {},
     "output_type": "execute_result"
    }
   ],
   "source": [
    "number_clicks # without both"
   ]
  },
  {
   "cell_type": "code",
   "execution_count": 25,
   "metadata": {
    "ExecuteTime": {
     "end_time": "2019-03-04T15:15:19.732962Z",
     "start_time": "2019-03-04T15:15:03.680029Z"
    }
   },
   "outputs": [
    {
     "data": {
      "text/plain": [
       "0.864863936241018"
      ]
     },
     "execution_count": 25,
     "metadata": {},
     "output_type": "execute_result"
    }
   ],
   "source": [
    "p = algo.ctrModel.predict(vx)\n",
    "roc_auc_score(vy.click, p)"
   ]
  },
  {
   "cell_type": "code",
   "execution_count": 16,
   "metadata": {
    "ExecuteTime": {
     "end_time": "2019-03-04T14:33:57.573811Z",
     "start_time": "2019-03-04T14:33:57.542570Z"
    }
   },
   "outputs": [
    {
     "data": {
      "text/plain": [
       "(165,\n",
       " 0.001500982461247362,\n",
       " 5950.751,\n",
       " 54.13316898333455,\n",
       " 36.065157575757574,\n",
       " 109928)"
      ]
     },
     "execution_count": 16,
     "metadata": {},
     "output_type": "execute_result"
    }
   ],
   "source": [
    "number_clicks"
   ]
  },
  {
   "cell_type": "code",
   "execution_count": 17,
   "metadata": {
    "ExecuteTime": {
     "end_time": "2019-03-04T14:36:52.054439Z",
     "start_time": "2019-03-04T14:35:39.497770Z"
    }
   },
   "outputs": [
    {
     "data": {
      "text/plain": [
       "0.864863936241018"
      ]
     },
     "execution_count": 17,
     "metadata": {},
     "output_type": "execute_result"
    }
   ],
   "source": [
    "p = algo.ctrModel.predict(vx) # with z-score only\n",
    "roc_auc_score(vy.click, p)"
   ]
  },
  {
   "cell_type": "code",
   "execution_count": 13,
   "metadata": {
    "ExecuteTime": {
     "end_time": "2019-03-04T14:17:46.584474Z",
     "start_time": "2019-03-04T14:17:46.556284Z"
    }
   },
   "outputs": [
    {
     "data": {
      "text/plain": [
       "(165,\n",
       " 0.0015056667822532074,\n",
       " 5948.434,\n",
       " 54.28096654682167,\n",
       " 36.051115151515155,\n",
       " 109586)"
      ]
     },
     "execution_count": 13,
     "metadata": {},
     "output_type": "execute_result"
    }
   ],
   "source": [
    "number_clicks # with z-score and slotprice"
   ]
  },
  {
   "cell_type": "code",
   "execution_count": 10,
   "metadata": {
    "ExecuteTime": {
     "end_time": "2019-03-04T14:16:47.004767Z",
     "start_time": "2019-03-04T14:16:27.481955Z"
    }
   },
   "outputs": [
    {
     "data": {
      "text/plain": [
       "0.8647839226095246"
      ]
     },
     "execution_count": 10,
     "metadata": {},
     "output_type": "execute_result"
    }
   ],
   "source": [
    "p = algo.ctrModel.predict(vx)\n",
    "roc_auc_score(vy.click, p)"
   ]
  },
  {
   "cell_type": "markdown",
   "metadata": {},
   "source": [
    "## + avg CTR"
   ]
  },
  {
   "cell_type": "code",
   "execution_count": 12,
   "metadata": {
    "ExecuteTime": {
     "end_time": "2019-03-03T11:39:16.528453Z",
     "start_time": "2019-03-03T11:36:46.652688Z"
    }
   },
   "outputs": [],
   "source": [
    "algo.use_pretrained = True\n",
    "algo.avg_ctr = ty.click.mean()\n",
    "algo._base_bid = None\n",
    "number_clicks = ev.evaluate()"
   ]
  },
  {
   "cell_type": "code",
   "execution_count": 13,
   "metadata": {
    "ExecuteTime": {
     "end_time": "2019-03-03T11:40:54.403486Z",
     "start_time": "2019-03-03T11:40:54.396536Z"
    }
   },
   "outputs": [
    {
     "data": {
      "text/plain": [
       "(142,\n",
       " 0.0012839175761082831,\n",
       " 6253.955,\n",
       " 56.54621651190336,\n",
       " 44.04193661971831,\n",
       " 110599)"
      ]
     },
     "execution_count": 13,
     "metadata": {},
     "output_type": "execute_result"
    }
   ],
   "source": [
    "number_clicks"
   ]
  },
  {
   "cell_type": "code",
   "execution_count": 10,
   "metadata": {
    "ExecuteTime": {
     "end_time": "2019-02-27T02:11:56.508130Z",
     "start_time": "2019-02-27T02:11:56.498198Z"
    }
   },
   "outputs": [
    {
     "data": {
      "text/plain": [
       "(166, 0.001440597066736093, 6301446, 54.68581098672221, 2.634315996677588e-05)"
      ]
     },
     "execution_count": 10,
     "metadata": {},
     "output_type": "execute_result"
    }
   ],
   "source": [
    "number_clicks"
   ]
  },
  {
   "cell_type": "markdown",
   "metadata": {},
   "source": [
    "## avg pCTR"
   ]
  },
  {
   "cell_type": "code",
   "execution_count": 14,
   "metadata": {
    "ExecuteTime": {
     "end_time": "2019-03-03T11:54:51.506922Z",
     "start_time": "2019-03-03T11:41:19.007198Z"
    }
   },
   "outputs": [
    {
     "name": "stdout",
     "output_type": "stream",
     "text": [
      "####### categories: slotformat - orig: 4, after min freq : 4\n",
      "####### categories: adexchange - orig: 5, after min freq : 5\n",
      "####### categories: os - orig: 6, after min freq : 6\n",
      "####### categories: weekday - orig: 7, after min freq : 7\n",
      "####### categories: advertiser - orig: 9, after min freq : 9\n",
      "####### categories: browser - orig: 9, after min freq : 9\n",
      "####### categories: slotvisibility - orig: 11, after min freq : 11\n",
      "####### categories: slotheight - orig: 14, after min freq : 14\n",
      "####### categories: keypage - orig: 19, after min freq : 19\n",
      "####### categories: slotwidth - orig: 21, after min freq : 21\n",
      "####### categories: hour - orig: 24, after min freq : 24\n",
      "####### categories: region - orig: 35, after min freq : 35\n",
      "####### categories: useragent - orig: 38, after min freq : 38\n",
      "####### categories: creative - orig: 131, after min freq : 131\n",
      "####### categories: slotprice - orig: 286, after min freq : 286\n",
      "####### categories: city - orig: 370, after min freq : 370\n",
      "####### categories: domain - orig: 23013, after min freq : 23013\n",
      "####### categories: slotid - orig: 52283, after min freq : 52283\n",
      "####### categories: IP - orig: 503975, after min freq : 503975\n",
      "####### categories: url - orig: 763961, after min freq : 763961\n"
     ]
    },
    {
     "name": "stderr",
     "output_type": "stream",
     "text": [
      "C:\\Anaconda2\\envs\\py36\\lib\\site-packages\\sklearn\\linear_model\\logistic.py:758: ConvergenceWarning: lbfgs failed to converge. Increase the number of iterations.\n",
      "  \"of iterations.\", ConvergenceWarning)\n"
     ]
    },
    {
     "name": "stdout",
     "output_type": "stream",
     "text": [
      "96.7565660037767\n",
      "119.55339125630691\n",
      "128.49267937756036\n",
      "122.81299342911112\n",
      "108.25445796292934\n",
      "106.64339465892144\n",
      "109.85344206999187\n",
      "106.84904124386385\n",
      "107.37733883971593\n",
      "converge!!\n",
      "Optimal mean, std: 4.676291896385382, 0.01070193049999594\n",
      "Optimal base_bid: 107.37733883971593\n"
     ]
    }
   ],
   "source": [
    "ceAlgo2 = CEAlgorithm(n_samples=100, p=0.2, max_iter=10, n_jobs=10)\n",
    "ctrLog2 = CTRLogistic(calibrate_prob=False)\n",
    "\n",
    "algo2 = LinearBid(ceAlgo2, ctrModel=ctrLog2, n_rounds=1)\n",
    "ev2 = Evaluator(algo2, data_handler)\n",
    "\n",
    "number_clicks = ev2.evaluate()"
   ]
  },
  {
   "cell_type": "code",
   "execution_count": 15,
   "metadata": {
    "ExecuteTime": {
     "end_time": "2019-03-03T11:54:54.050119Z",
     "start_time": "2019-03-03T11:54:54.033164Z"
    }
   },
   "outputs": [
    {
     "data": {
      "text/plain": [
       "0.2450299400976302"
      ]
     },
     "execution_count": 15,
     "metadata": {},
     "output_type": "execute_result"
    }
   ],
   "source": [
    "algo2.avg_ctr"
   ]
  },
  {
   "cell_type": "code",
   "execution_count": 16,
   "metadata": {
    "ExecuteTime": {
     "end_time": "2019-03-03T11:54:56.861598Z",
     "start_time": "2019-03-03T11:54:56.853620Z"
    }
   },
   "outputs": [
    {
     "data": {
      "text/plain": [
       "(104,\n",
       " 0.0009561372056890164,\n",
       " 6261.28,\n",
       " 57.56387272342812,\n",
       " 60.20461538461538,\n",
       " 108771)"
      ]
     },
     "execution_count": 16,
     "metadata": {},
     "output_type": "execute_result"
    }
   ],
   "source": [
    "number_clicks"
   ]
  }
 ],
 "metadata": {
  "kernelspec": {
   "display_name": "Python 3",
   "language": "python",
   "name": "python3"
  },
  "language_info": {
   "codemirror_mode": {
    "name": "ipython",
    "version": 3
   },
   "file_extension": ".py",
   "mimetype": "text/x-python",
   "name": "python",
   "nbconvert_exporter": "python",
   "pygments_lexer": "ipython3",
   "version": "3.6.5"
  },
  "latex_envs": {
   "LaTeX_envs_menu_present": true,
   "autoclose": false,
   "autocomplete": true,
   "bibliofile": "biblio.bib",
   "cite_by": "apalike",
   "current_citInitial": 1,
   "eqLabelWithNumbers": true,
   "eqNumInitial": 1,
   "hotkeys": {
    "equation": "Ctrl-E",
    "itemize": "Ctrl-I"
   },
   "labels_anchors": false,
   "latex_user_defs": false,
   "report_style_numbering": false,
   "user_envs_cfg": false
  },
  "toc": {
   "base_numbering": 1,
   "nav_menu": {},
   "number_sections": true,
   "sideBar": true,
   "skip_h1_title": false,
   "title_cell": "Table of Contents",
   "title_sidebar": "Contents",
   "toc_cell": false,
   "toc_position": {},
   "toc_section_display": true,
   "toc_window_display": false
  },
  "varInspector": {
   "cols": {
    "lenName": 16,
    "lenType": 16,
    "lenVar": 40
   },
   "kernels_config": {
    "python": {
     "delete_cmd_postfix": "",
     "delete_cmd_prefix": "del ",
     "library": "var_list.py",
     "varRefreshCmd": "print(var_dic_list())"
    },
    "r": {
     "delete_cmd_postfix": ") ",
     "delete_cmd_prefix": "rm(",
     "library": "var_list.r",
     "varRefreshCmd": "cat(var_dic_list()) "
    }
   },
   "types_to_exclude": [
    "module",
    "function",
    "builtin_function_or_method",
    "instance",
    "_Feature"
   ],
   "window_display": false
  }
 },
 "nbformat": 4,
 "nbformat_minor": 2
}
